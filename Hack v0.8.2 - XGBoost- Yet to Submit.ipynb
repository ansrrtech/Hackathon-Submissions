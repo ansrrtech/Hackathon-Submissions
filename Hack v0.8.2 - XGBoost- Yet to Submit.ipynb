{
 "cells": [
  {
   "cell_type": "code",
   "execution_count": 5,
   "metadata": {},
   "outputs": [
    {
     "name": "stderr",
     "output_type": "stream",
     "text": [
      "C:\\Users\\ratee\\Anaconda3\\lib\\site-packages\\statsmodels\\tools\\_testing.py:19: FutureWarning: pandas.util.testing is deprecated. Use the functions in the public API at pandas.testing instead.\n",
      "  import pandas.util.testing as tm\n"
     ]
    }
   ],
   "source": [
    "import pandas as pd\n",
    "import numpy as np\n",
    "import seaborn as sns\n",
    "import matplotlib.pyplot as plt\n",
    "import matplotlib.style\n",
    "plt.style.use('seaborn')\n",
    "import statsmodels.api as sm\n",
    "from sklearn import metrics\n",
    "from sklearn.model_selection import train_test_split\n",
    "from sklearn.linear_model import LinearRegression\n",
    "from sklearn.metrics import mean_squared_error\n",
    "from statsmodels.stats.outliers_influence import variance_inflation_factor\n",
    "from sklearn.model_selection import GridSearchCV"
   ]
  },
  {
   "cell_type": "code",
   "execution_count": 6,
   "metadata": {},
   "outputs": [],
   "source": [
    "train_df = pd.read_csv(\"Train_dataset.csv\")\n",
    "test_df = pd.read_csv(\"Test_dataset.csv\")"
   ]
  },
  {
   "cell_type": "code",
   "execution_count": 7,
   "metadata": {},
   "outputs": [
    {
     "data": {
      "text/plain": [
       "(3493, 34)"
      ]
     },
     "execution_count": 7,
     "metadata": {},
     "output_type": "execute_result"
    }
   ],
   "source": [
    "train_df.shape"
   ]
  },
  {
   "cell_type": "code",
   "execution_count": 8,
   "metadata": {},
   "outputs": [
    {
     "data": {
      "text/plain": [
       "(500, 33)"
      ]
     },
     "execution_count": 8,
     "metadata": {},
     "output_type": "execute_result"
    }
   ],
   "source": [
    "test_df.shape"
   ]
  },
  {
   "cell_type": "code",
   "execution_count": 9,
   "metadata": {},
   "outputs": [
    {
     "name": "stdout",
     "output_type": "stream",
     "text": [
      "<class 'pandas.core.frame.DataFrame'>\n",
      "RangeIndex: 3493 entries, 0 to 3492\n",
      "Data columns (total 34 columns):\n",
      " #   Column                         Non-Null Count  Dtype  \n",
      "---  ------                         --------------  -----  \n",
      " 0   Registration Number            3493 non-null   int64  \n",
      " 1   Annual Turnover                3493 non-null   int64  \n",
      " 2   Cuisine                        3493 non-null   object \n",
      " 3   City                           3493 non-null   object \n",
      " 4   Restaurant Location            3493 non-null   object \n",
      " 5   Opening Day of Restaurant      3493 non-null   object \n",
      " 6   Facebook Popularity Quotient   3394 non-null   float64\n",
      " 7   Endorsed By                    3493 non-null   object \n",
      " 8   Instagram Popularity Quotient  3437 non-null   float64\n",
      " 9   Fire Audit                     3493 non-null   int64  \n",
      " 10  Liquor License Obtained        3493 non-null   int64  \n",
      " 11  Situated in a Multi Complex    3493 non-null   int64  \n",
      " 12  Dedicated Parking              3493 non-null   int64  \n",
      " 13  Open Sitting Available         3493 non-null   int64  \n",
      " 14  Resturant Tier                 3444 non-null   float64\n",
      " 15  Restaurant Type                3493 non-null   object \n",
      " 16  Restaurant Theme               3493 non-null   object \n",
      " 17  Restaurant Zomato Rating       3493 non-null   int64  \n",
      " 18  Restaurant City Tier           3493 non-null   int64  \n",
      " 19  Order Wait Time                3493 non-null   int64  \n",
      " 20  Staff Responsivness            3493 non-null   int64  \n",
      " 21  Value for Money                3493 non-null   int64  \n",
      " 22  Hygiene Rating                 3493 non-null   int64  \n",
      " 23  Food Rating                    3493 non-null   int64  \n",
      " 24  Overall Restaurant Rating      3281 non-null   float64\n",
      " 25  Live Music Rating              2728 non-null   float64\n",
      " 26  Comedy Gigs Rating             1010 non-null   float64\n",
      " 27  Value Deals Rating             786 non-null    float64\n",
      " 28  Live Sports Rating             205 non-null    float64\n",
      " 29  Ambience                       3468 non-null   float64\n",
      " 30  Lively                         3493 non-null   int64  \n",
      " 31  Service                        3493 non-null   int64  \n",
      " 32  Comfortablility                3493 non-null   int64  \n",
      " 33  Privacy                        3493 non-null   int64  \n",
      "dtypes: float64(9), int64(18), object(7)\n",
      "memory usage: 928.0+ KB\n"
     ]
    }
   ],
   "source": [
    "train_df.info()"
   ]
  },
  {
   "cell_type": "code",
   "execution_count": 10,
   "metadata": {},
   "outputs": [
    {
     "name": "stdout",
     "output_type": "stream",
     "text": [
      "Number of duplicate rows = 0\n"
     ]
    }
   ],
   "source": [
    "dups = train_df.duplicated()\n",
    "print('Number of duplicate rows = %d' % (dups.sum()))"
   ]
  },
  {
   "cell_type": "code",
   "execution_count": 11,
   "metadata": {},
   "outputs": [
    {
     "data": {
      "text/html": [
       "<div>\n",
       "<style scoped>\n",
       "    .dataframe tbody tr th:only-of-type {\n",
       "        vertical-align: middle;\n",
       "    }\n",
       "\n",
       "    .dataframe tbody tr th {\n",
       "        vertical-align: top;\n",
       "    }\n",
       "\n",
       "    .dataframe thead th {\n",
       "        text-align: right;\n",
       "    }\n",
       "</style>\n",
       "<table border=\"1\" class=\"dataframe\">\n",
       "  <thead>\n",
       "    <tr style=\"text-align: right;\">\n",
       "      <th></th>\n",
       "      <th>Registration Number</th>\n",
       "      <th>Annual Turnover</th>\n",
       "      <th>Facebook Popularity Quotient</th>\n",
       "      <th>Instagram Popularity Quotient</th>\n",
       "      <th>Fire Audit</th>\n",
       "      <th>Liquor License Obtained</th>\n",
       "      <th>Situated in a Multi Complex</th>\n",
       "      <th>Dedicated Parking</th>\n",
       "      <th>Open Sitting Available</th>\n",
       "      <th>Resturant Tier</th>\n",
       "      <th>...</th>\n",
       "      <th>Overall Restaurant Rating</th>\n",
       "      <th>Live Music Rating</th>\n",
       "      <th>Comedy Gigs Rating</th>\n",
       "      <th>Value Deals Rating</th>\n",
       "      <th>Live Sports Rating</th>\n",
       "      <th>Ambience</th>\n",
       "      <th>Lively</th>\n",
       "      <th>Service</th>\n",
       "      <th>Comfortablility</th>\n",
       "      <th>Privacy</th>\n",
       "    </tr>\n",
       "  </thead>\n",
       "  <tbody>\n",
       "    <tr>\n",
       "      <th>count</th>\n",
       "      <td>3493.000000</td>\n",
       "      <td>3.493000e+03</td>\n",
       "      <td>3394.000000</td>\n",
       "      <td>3437.000000</td>\n",
       "      <td>3493.000000</td>\n",
       "      <td>3493.000000</td>\n",
       "      <td>3493.000000</td>\n",
       "      <td>3493.000000</td>\n",
       "      <td>3493.000000</td>\n",
       "      <td>3444.000000</td>\n",
       "      <td>...</td>\n",
       "      <td>3281.000000</td>\n",
       "      <td>2728.000000</td>\n",
       "      <td>1010.000000</td>\n",
       "      <td>786.000000</td>\n",
       "      <td>205.000000</td>\n",
       "      <td>3468.000000</td>\n",
       "      <td>3493.000000</td>\n",
       "      <td>3493.000000</td>\n",
       "      <td>3493.00000</td>\n",
       "      <td>3493.000000</td>\n",
       "    </tr>\n",
       "    <tr>\n",
       "      <th>mean</th>\n",
       "      <td>61747.000000</td>\n",
       "      <td>3.072571e+07</td>\n",
       "      <td>77.938715</td>\n",
       "      <td>74.404684</td>\n",
       "      <td>0.788720</td>\n",
       "      <td>0.988262</td>\n",
       "      <td>0.808188</td>\n",
       "      <td>0.801889</td>\n",
       "      <td>0.800172</td>\n",
       "      <td>1.926539</td>\n",
       "      <td>...</td>\n",
       "      <td>8.479427</td>\n",
       "      <td>4.012830</td>\n",
       "      <td>2.932673</td>\n",
       "      <td>3.655216</td>\n",
       "      <td>3.590244</td>\n",
       "      <td>6.423010</td>\n",
       "      <td>6.874893</td>\n",
       "      <td>4.546808</td>\n",
       "      <td>3.23132</td>\n",
       "      <td>6.275122</td>\n",
       "    </tr>\n",
       "    <tr>\n",
       "      <th>std</th>\n",
       "      <td>1008.486572</td>\n",
       "      <td>2.165125e+07</td>\n",
       "      <td>9.829169</td>\n",
       "      <td>10.940327</td>\n",
       "      <td>0.408275</td>\n",
       "      <td>0.107719</td>\n",
       "      <td>0.393783</td>\n",
       "      <td>0.398633</td>\n",
       "      <td>0.399928</td>\n",
       "      <td>0.260930</td>\n",
       "      <td>...</td>\n",
       "      <td>1.287233</td>\n",
       "      <td>1.009044</td>\n",
       "      <td>0.859519</td>\n",
       "      <td>0.973250</td>\n",
       "      <td>0.906351</td>\n",
       "      <td>2.050026</td>\n",
       "      <td>1.847131</td>\n",
       "      <td>1.877063</td>\n",
       "      <td>1.99305</td>\n",
       "      <td>1.895057</td>\n",
       "    </tr>\n",
       "    <tr>\n",
       "      <th>min</th>\n",
       "      <td>60001.000000</td>\n",
       "      <td>3.500000e+06</td>\n",
       "      <td>43.000000</td>\n",
       "      <td>40.000000</td>\n",
       "      <td>0.000000</td>\n",
       "      <td>0.000000</td>\n",
       "      <td>0.000000</td>\n",
       "      <td>0.000000</td>\n",
       "      <td>0.000000</td>\n",
       "      <td>1.000000</td>\n",
       "      <td>...</td>\n",
       "      <td>6.000000</td>\n",
       "      <td>1.000000</td>\n",
       "      <td>1.000000</td>\n",
       "      <td>1.000000</td>\n",
       "      <td>2.000000</td>\n",
       "      <td>0.000000</td>\n",
       "      <td>0.000000</td>\n",
       "      <td>0.000000</td>\n",
       "      <td>0.00000</td>\n",
       "      <td>0.000000</td>\n",
       "    </tr>\n",
       "    <tr>\n",
       "      <th>25%</th>\n",
       "      <td>60874.000000</td>\n",
       "      <td>1.800000e+07</td>\n",
       "      <td>72.000000</td>\n",
       "      <td>66.000000</td>\n",
       "      <td>1.000000</td>\n",
       "      <td>1.000000</td>\n",
       "      <td>1.000000</td>\n",
       "      <td>1.000000</td>\n",
       "      <td>1.000000</td>\n",
       "      <td>2.000000</td>\n",
       "      <td>...</td>\n",
       "      <td>7.000000</td>\n",
       "      <td>3.000000</td>\n",
       "      <td>2.000000</td>\n",
       "      <td>3.000000</td>\n",
       "      <td>3.000000</td>\n",
       "      <td>5.000000</td>\n",
       "      <td>6.000000</td>\n",
       "      <td>3.000000</td>\n",
       "      <td>2.00000</td>\n",
       "      <td>5.000000</td>\n",
       "    </tr>\n",
       "    <tr>\n",
       "      <th>50%</th>\n",
       "      <td>61747.000000</td>\n",
       "      <td>3.000000e+07</td>\n",
       "      <td>79.000000</td>\n",
       "      <td>74.050000</td>\n",
       "      <td>1.000000</td>\n",
       "      <td>1.000000</td>\n",
       "      <td>1.000000</td>\n",
       "      <td>1.000000</td>\n",
       "      <td>1.000000</td>\n",
       "      <td>2.000000</td>\n",
       "      <td>...</td>\n",
       "      <td>9.000000</td>\n",
       "      <td>4.000000</td>\n",
       "      <td>3.000000</td>\n",
       "      <td>4.000000</td>\n",
       "      <td>4.000000</td>\n",
       "      <td>7.000000</td>\n",
       "      <td>7.000000</td>\n",
       "      <td>5.000000</td>\n",
       "      <td>3.00000</td>\n",
       "      <td>6.000000</td>\n",
       "    </tr>\n",
       "    <tr>\n",
       "      <th>75%</th>\n",
       "      <td>62620.000000</td>\n",
       "      <td>3.700000e+07</td>\n",
       "      <td>85.745000</td>\n",
       "      <td>82.400000</td>\n",
       "      <td>1.000000</td>\n",
       "      <td>1.000000</td>\n",
       "      <td>1.000000</td>\n",
       "      <td>1.000000</td>\n",
       "      <td>1.000000</td>\n",
       "      <td>2.000000</td>\n",
       "      <td>...</td>\n",
       "      <td>10.000000</td>\n",
       "      <td>5.000000</td>\n",
       "      <td>3.000000</td>\n",
       "      <td>4.000000</td>\n",
       "      <td>4.000000</td>\n",
       "      <td>8.000000</td>\n",
       "      <td>8.000000</td>\n",
       "      <td>6.000000</td>\n",
       "      <td>5.00000</td>\n",
       "      <td>8.000000</td>\n",
       "    </tr>\n",
       "    <tr>\n",
       "      <th>max</th>\n",
       "      <td>63493.000000</td>\n",
       "      <td>4.000000e+08</td>\n",
       "      <td>97.760000</td>\n",
       "      <td>98.700000</td>\n",
       "      <td>1.000000</td>\n",
       "      <td>1.000000</td>\n",
       "      <td>1.000000</td>\n",
       "      <td>1.000000</td>\n",
       "      <td>1.000000</td>\n",
       "      <td>2.000000</td>\n",
       "      <td>...</td>\n",
       "      <td>10.000000</td>\n",
       "      <td>8.000000</td>\n",
       "      <td>6.000000</td>\n",
       "      <td>7.000000</td>\n",
       "      <td>6.000000</td>\n",
       "      <td>10.000000</td>\n",
       "      <td>10.000000</td>\n",
       "      <td>10.000000</td>\n",
       "      <td>10.00000</td>\n",
       "      <td>10.000000</td>\n",
       "    </tr>\n",
       "  </tbody>\n",
       "</table>\n",
       "<p>8 rows × 27 columns</p>\n",
       "</div>"
      ],
      "text/plain": [
       "       Registration Number  Annual Turnover  Facebook Popularity Quotient  \\\n",
       "count          3493.000000     3.493000e+03                   3394.000000   \n",
       "mean          61747.000000     3.072571e+07                     77.938715   \n",
       "std            1008.486572     2.165125e+07                      9.829169   \n",
       "min           60001.000000     3.500000e+06                     43.000000   \n",
       "25%           60874.000000     1.800000e+07                     72.000000   \n",
       "50%           61747.000000     3.000000e+07                     79.000000   \n",
       "75%           62620.000000     3.700000e+07                     85.745000   \n",
       "max           63493.000000     4.000000e+08                     97.760000   \n",
       "\n",
       "       Instagram Popularity Quotient   Fire Audit  Liquor License Obtained  \\\n",
       "count                    3437.000000  3493.000000              3493.000000   \n",
       "mean                       74.404684     0.788720                 0.988262   \n",
       "std                        10.940327     0.408275                 0.107719   \n",
       "min                        40.000000     0.000000                 0.000000   \n",
       "25%                        66.000000     1.000000                 1.000000   \n",
       "50%                        74.050000     1.000000                 1.000000   \n",
       "75%                        82.400000     1.000000                 1.000000   \n",
       "max                        98.700000     1.000000                 1.000000   \n",
       "\n",
       "       Situated in a Multi Complex  Dedicated Parking  Open Sitting Available  \\\n",
       "count                  3493.000000        3493.000000             3493.000000   \n",
       "mean                      0.808188           0.801889                0.800172   \n",
       "std                       0.393783           0.398633                0.399928   \n",
       "min                       0.000000           0.000000                0.000000   \n",
       "25%                       1.000000           1.000000                1.000000   \n",
       "50%                       1.000000           1.000000                1.000000   \n",
       "75%                       1.000000           1.000000                1.000000   \n",
       "max                       1.000000           1.000000                1.000000   \n",
       "\n",
       "       Resturant Tier  ...  Overall Restaurant Rating  Live Music Rating  \\\n",
       "count     3444.000000  ...                3281.000000        2728.000000   \n",
       "mean         1.926539  ...                   8.479427           4.012830   \n",
       "std          0.260930  ...                   1.287233           1.009044   \n",
       "min          1.000000  ...                   6.000000           1.000000   \n",
       "25%          2.000000  ...                   7.000000           3.000000   \n",
       "50%          2.000000  ...                   9.000000           4.000000   \n",
       "75%          2.000000  ...                  10.000000           5.000000   \n",
       "max          2.000000  ...                  10.000000           8.000000   \n",
       "\n",
       "       Comedy Gigs Rating  Value Deals Rating  Live Sports Rating  \\\n",
       "count         1010.000000          786.000000          205.000000   \n",
       "mean             2.932673            3.655216            3.590244   \n",
       "std              0.859519            0.973250            0.906351   \n",
       "min              1.000000            1.000000            2.000000   \n",
       "25%              2.000000            3.000000            3.000000   \n",
       "50%              3.000000            4.000000            4.000000   \n",
       "75%              3.000000            4.000000            4.000000   \n",
       "max              6.000000            7.000000            6.000000   \n",
       "\n",
       "          Ambience       Lively      Service  Comfortablility      Privacy  \n",
       "count  3468.000000  3493.000000  3493.000000       3493.00000  3493.000000  \n",
       "mean      6.423010     6.874893     4.546808          3.23132     6.275122  \n",
       "std       2.050026     1.847131     1.877063          1.99305     1.895057  \n",
       "min       0.000000     0.000000     0.000000          0.00000     0.000000  \n",
       "25%       5.000000     6.000000     3.000000          2.00000     5.000000  \n",
       "50%       7.000000     7.000000     5.000000          3.00000     6.000000  \n",
       "75%       8.000000     8.000000     6.000000          5.00000     8.000000  \n",
       "max      10.000000    10.000000    10.000000         10.00000    10.000000  \n",
       "\n",
       "[8 rows x 27 columns]"
      ]
     },
     "execution_count": 11,
     "metadata": {},
     "output_type": "execute_result"
    }
   ],
   "source": [
    "train_df.describe()"
   ]
  },
  {
   "cell_type": "markdown",
   "metadata": {},
   "source": [
    "plt.subplots(figsize=(20,18))\n",
    "ax = sns.heatmap(train_df.corr(),cmap='rainbow', annot=True)\n",
    "bottom, top = ax.get_ylim()\n",
    "ax.set_ylim (bottom + 0.5, top - 0.5)"
   ]
  },
  {
   "cell_type": "code",
   "execution_count": 12,
   "metadata": {},
   "outputs": [
    {
     "name": "stdout",
     "output_type": "stream",
     "text": [
      "<class 'pandas.core.frame.DataFrame'>\n",
      "RangeIndex: 3493 entries, 0 to 3492\n",
      "Data columns (total 34 columns):\n",
      " #   Column                         Non-Null Count  Dtype  \n",
      "---  ------                         --------------  -----  \n",
      " 0   Registration Number            3493 non-null   int64  \n",
      " 1   Annual Turnover                3493 non-null   int64  \n",
      " 2   Cuisine                        3493 non-null   object \n",
      " 3   City                           3493 non-null   object \n",
      " 4   Restaurant Location            3493 non-null   object \n",
      " 5   Opening Day of Restaurant      3493 non-null   object \n",
      " 6   Facebook Popularity Quotient   3394 non-null   float64\n",
      " 7   Endorsed By                    3493 non-null   object \n",
      " 8   Instagram Popularity Quotient  3437 non-null   float64\n",
      " 9   Fire Audit                     3493 non-null   int64  \n",
      " 10  Liquor License Obtained        3493 non-null   int64  \n",
      " 11  Situated in a Multi Complex    3493 non-null   int64  \n",
      " 12  Dedicated Parking              3493 non-null   int64  \n",
      " 13  Open Sitting Available         3493 non-null   int64  \n",
      " 14  Resturant Tier                 3444 non-null   float64\n",
      " 15  Restaurant Type                3493 non-null   object \n",
      " 16  Restaurant Theme               3493 non-null   object \n",
      " 17  Restaurant Zomato Rating       3493 non-null   int64  \n",
      " 18  Restaurant City Tier           3493 non-null   int64  \n",
      " 19  Order Wait Time                3493 non-null   int64  \n",
      " 20  Staff Responsivness            3493 non-null   int64  \n",
      " 21  Value for Money                3493 non-null   int64  \n",
      " 22  Hygiene Rating                 3493 non-null   int64  \n",
      " 23  Food Rating                    3493 non-null   int64  \n",
      " 24  Overall Restaurant Rating      3281 non-null   float64\n",
      " 25  Live Music Rating              2728 non-null   float64\n",
      " 26  Comedy Gigs Rating             1010 non-null   float64\n",
      " 27  Value Deals Rating             786 non-null    float64\n",
      " 28  Live Sports Rating             205 non-null    float64\n",
      " 29  Ambience                       3468 non-null   float64\n",
      " 30  Lively                         3493 non-null   int64  \n",
      " 31  Service                        3493 non-null   int64  \n",
      " 32  Comfortablility                3493 non-null   int64  \n",
      " 33  Privacy                        3493 non-null   int64  \n",
      "dtypes: float64(9), int64(18), object(7)\n",
      "memory usage: 928.0+ KB\n"
     ]
    }
   ],
   "source": [
    "train_df.info()"
   ]
  },
  {
   "cell_type": "code",
   "execution_count": 13,
   "metadata": {},
   "outputs": [],
   "source": [
    "# Drop columns with too many nulls\n",
    "train_df = train_df.drop('Live Sports Rating', axis=1)\n",
    "train_df = train_df.drop('Value Deals Rating', axis=1)\n",
    "train_df = train_df.drop('Comedy Gigs Rating', axis=1)\n",
    "test_df = test_df.drop('Live Sports Rating', axis=1)\n",
    "test_df = test_df.drop('Value Deals Rating', axis=1)\n",
    "test_df = test_df.drop('Comedy Gigs Rating', axis=1)"
   ]
  },
  {
   "cell_type": "code",
   "execution_count": 14,
   "metadata": {},
   "outputs": [],
   "source": [
    "categoric_vars = ['Cuisine','City', 'Restaurant Location','Endorsed By','Restaurant Type','Restaurant Theme']\n",
    "every_column_except_y= [col for col in train_df.columns if col not in ['Annual Turnover','Registration Number']]"
   ]
  },
  {
   "cell_type": "code",
   "execution_count": 15,
   "metadata": {},
   "outputs": [],
   "source": [
    "every_column_non_categorical= [col for col in train_df.columns if col not in categoric_vars and col not in ['Registration Number'] ]\n",
    "every_X_non_categorical= [col for col in train_df.columns if col not in categoric_vars and col not in ['Annual Turnover','Registration Number'] ]"
   ]
  },
  {
   "cell_type": "code",
   "execution_count": 16,
   "metadata": {},
   "outputs": [
    {
     "name": "stderr",
     "output_type": "stream",
     "text": [
      "C:\\Users\\ratee\\Anaconda3\\lib\\site-packages\\numpy\\core\\_asarray.py:83: VisibleDeprecationWarning: Creating an ndarray from ragged nested sequences (which is a list-or-tuple of lists-or-tuples-or ndarrays with different lengths or shapes) is deprecated. If you meant to do this, you must specify 'dtype=object' when creating the ndarray\n",
      "  return array(a, dtype, copy=False, order=order)\n"
     ]
    },
    {
     "data": {
      "text/plain": [
       "<matplotlib.axes._subplots.AxesSubplot at 0x1a477d6f188>"
      ]
     },
     "execution_count": 16,
     "metadata": {},
     "output_type": "execute_result"
    },
    {
     "data": {
      "image/png": "[encoded data removed]",
      "text/plain": [
       "<Figure size 576x1152 with 1 Axes>"
      ]
     },
     "metadata": {
      "needs_background": "light"
     },
     "output_type": "display_data"
    }
   ],
   "source": [
    "train_df[every_X_non_categorical].boxplot(figsize=(8,16), vert = 0)"
   ]
  },
  {
   "cell_type": "code",
   "execution_count": 17,
   "metadata": {},
   "outputs": [],
   "source": [
    "def remove_outlier(col):\n",
    "    sorted(col)\n",
    "    Q1,Q3=np.percentile(col,[25,75])\n",
    "    IQR=Q3-Q1\n",
    "    lower_range= Q1-(1.5 * IQR)\n",
    "    upper_range= Q3+(1.5 * IQR)\n",
    "    return lower_range, upper_range"
   ]
  },
  {
   "cell_type": "code",
   "execution_count": 18,
   "metadata": {},
   "outputs": [],
   "source": [
    "# Change the date field to number of days\n",
    "from datetime import date\n",
    "train_df['Opening Day of Restaurant'] = pd.to_datetime(train_df['Opening Day of Restaurant'])\n",
    "today = date(2020, 9, 1)\n",
    "today = pd.to_datetime(today)\n",
    "delta = today - train_df['Opening Day of Restaurant'] \n",
    "train_df['days_since'] = delta.dt.days\n",
    "train_df = train_df.drop('Opening Day of Restaurant', axis=1)"
   ]
  },
  {
   "cell_type": "code",
   "execution_count": 19,
   "metadata": {},
   "outputs": [],
   "source": [
    "test_df['Opening Day of Restaurant'] = pd.to_datetime(test_df['Opening Day of Restaurant'])\n",
    "today = date(2020, 9, 1)\n",
    "today = pd.to_datetime(today)\n",
    "delta = today - test_df['Opening Day of Restaurant'] \n",
    "test_df['days_since'] = delta.dt.days\n",
    "test_df = test_df.drop('Opening Day of Restaurant', axis=1)"
   ]
  },
  {
   "cell_type": "code",
   "execution_count": 20,
   "metadata": {},
   "outputs": [],
   "source": [
    "categoric_vars = ['Cuisine','City', 'Restaurant Location','Endorsed By','Restaurant Type','Restaurant Theme']"
   ]
  },
  {
   "cell_type": "code",
   "execution_count": 21,
   "metadata": {},
   "outputs": [],
   "source": [
    "every_column_except_y= [col for col in train_df.columns if col not in ['Annual Turnover','Registration Number']]"
   ]
  },
  {
   "cell_type": "code",
   "execution_count": 22,
   "metadata": {},
   "outputs": [],
   "source": [
    "every_column_non_categorical= [col for col in train_df.columns if col not in categoric_vars and col not in ['Registration Number'] ]\n",
    "every_X_non_categorical= [col for col in train_df.columns if col not in categoric_vars and col not in ['Annual Turnover','Registration Number'] ]"
   ]
  },
  {
   "cell_type": "code",
   "execution_count": 23,
   "metadata": {},
   "outputs": [
    {
     "data": {
      "text/plain": [
       "Index(['Facebook Popularity Quotient', 'Instagram Popularity Quotient',\n",
       "       'Fire Audit', 'Liquor License Obtained', 'Situated in a Multi Complex',\n",
       "       'Dedicated Parking', 'Open Sitting Available', 'Resturant Tier',\n",
       "       'Restaurant Zomato Rating', 'Restaurant City Tier', 'Order Wait Time',\n",
       "       'Staff Responsivness', 'Value for Money', 'Hygiene Rating',\n",
       "       'Food Rating', 'Overall Restaurant Rating', 'Live Music Rating',\n",
       "       'Ambience', 'Lively', 'Service', 'Comfortablility', 'Privacy',\n",
       "       'days_since'],\n",
       "      dtype='object')"
      ]
     },
     "execution_count": 23,
     "metadata": {},
     "output_type": "execute_result"
    }
   ],
   "source": [
    "numeric_feats = train_df[every_column_non_categorical].dtypes[train_df.dtypes != \"object\"].index\n",
    "test_numeric_feats = test_df[every_X_non_categorical].dtypes[train_df.dtypes != \"object\"].index\n",
    "test_numeric_feats"
   ]
  },
  {
   "cell_type": "code",
   "execution_count": 24,
   "metadata": {},
   "outputs": [],
   "source": [
    "test_df = test_df.rename(columns={'Endoresed By': 'Endorsed By'})"
   ]
  },
  {
   "cell_type": "code",
   "execution_count": 25,
   "metadata": {},
   "outputs": [],
   "source": [
    "#for column in train_df[test_numeric_feats].columns:\n",
    "#    lr,ur=remove_outlier(train_df[column])\n",
    "#    train_df[column]=np.where(train_df[column]>ur,ur,train_df[column])\n",
    "#    train_df[column]=np.where(train_df[column]<lr,lr,train_df[column])"
   ]
  },
  {
   "cell_type": "code",
   "execution_count": 26,
   "metadata": {},
   "outputs": [
    {
     "name": "stdout",
     "output_type": "stream",
     "text": [
      "CUISINE in Train:  20\n",
      "nigerian,cajun          24\n",
      "british,belgian         40\n",
      "hawaiian,latvian        46\n",
      "algerian,algerian       67\n",
      "cuban,british           81\n",
      "algerian,korean         83\n",
      "irish,belgian           85\n",
      "swedish,greek           92\n",
      "peruvian,cuban         115\n",
      "polish,jewish          117\n",
      "turkish,sapnish        147\n",
      "algerian,belgian       155\n",
      "chinese,salvadorian    159\n",
      "japanese,thai          204\n",
      "turkish,nigerian       225\n",
      "british,japanese       271\n",
      "indian,irish           273\n",
      "tibetan,italian        278\n",
      "welsh,thai             345\n",
      "tibetan,greek          686\n",
      "Name: Cuisine, dtype: int64\n",
      "-----------------------------------------------------\n",
      "CUISINE in Test:  20\n",
      "british,belgian          3\n",
      "nigerian,cajun           4\n",
      "algerian,algerian        5\n",
      "hawaiian,latvian         9\n",
      "polish,jewish           10\n",
      "irish,belgian           10\n",
      "swedish,greek           10\n",
      "turkish,sapnish         13\n",
      "cuban,british           15\n",
      "japanese,thai           19\n",
      "algerian,korean         19\n",
      "peruvian,cuban          19\n",
      "turkish,nigerian        21\n",
      "algerian,belgian        21\n",
      "chinese,salvadorian     27\n",
      "tibetan,italian         33\n",
      "british,japanese        44\n",
      "indian,irish            45\n",
      "welsh,thai              58\n",
      "tibetan,greek          115\n",
      "Name: Cuisine, dtype: int64\n",
      "\n",
      "\n",
      "CITY in Train:  297\n",
      "New Delhi       1\n",
      "GURGOAN         1\n",
      "kala amb        1\n",
      "singaruli       1\n",
      "LONDON          1\n",
      "             ... \n",
      "Pune          262\n",
      "Hyderabad     295\n",
      "Noida         324\n",
      "-1            396\n",
      "Bangalore     553\n",
      "Name: City, Length: 297, dtype: int64\n",
      "-----------------------------------------------------\n",
      "CITY in Test:  97\n",
      "Patiala         1\n",
      "Mohali          1\n",
      "Banaglore       1\n",
      "Rajkot          1\n",
      "bhubaneswar     1\n",
      "               ..\n",
      "Chennai        28\n",
      "Hyderabad      40\n",
      "Noida          44\n",
      "-1             65\n",
      "Bangalore      74\n",
      "Name: City, Length: 97, dtype: int64\n",
      "\n",
      "\n",
      "RESTAURANT LOCATION in Train:  2\n",
      "Near Business Hub     835\n",
      "Near Party Hub       2658\n",
      "Name: Restaurant Location, dtype: int64\n",
      "-----------------------------------------------------\n",
      "RESTAURANT LOCATION in Test:  2\n",
      "Near Business Hub    122\n",
      "Near Party Hub       378\n",
      "Name: Restaurant Location, dtype: int64\n",
      "\n",
      "\n",
      "ENDORSED BY in Train:  3\n",
      "Local Celebrity       32\n",
      "Tier A Celebrity    1500\n",
      "Not Specific        1961\n",
      "Name: Endorsed By, dtype: int64\n",
      "-----------------------------------------------------\n",
      "ENDORSED BY in Test:  3\n",
      "Local Celebrity       5\n",
      "Tier A Celebrity    196\n",
      "Not Specific        299\n",
      "Name: Endorsed By, dtype: int64\n",
      "\n",
      "\n",
      "RESTAURANT TYPE in Train:  4\n",
      "Buffet/Family Restaurant       1\n",
      "Gastro Bar                    45\n",
      "Caffee                       212\n",
      "Bar                         3235\n",
      "Name: Restaurant Type, dtype: int64\n",
      "-----------------------------------------------------\n",
      "RESTAURANT TYPE in Test:  4\n",
      "Buffet/Family Restaurant      1\n",
      "Gastro Bar                    8\n",
      "Caffee                       31\n",
      "Bar                         460\n",
      "Name: Restaurant Type, dtype: int64\n",
      "\n",
      "\n",
      "RESTAURANT THEME in Train:  34\n",
      "Ambiance        1\n",
      "Cinnamon        1\n",
      "Italica         1\n",
      "Flavors         1\n",
      "Piquant         1\n",
      "Grand           1\n",
      "Bakery          1\n",
      "LaCuisine       1\n",
      "Spoon           1\n",
      "Sage            1\n",
      "Bettaso         2\n",
      "Savory          2\n",
      "Resca           2\n",
      "Cafepro         2\n",
      "Benedicta       3\n",
      "Picante         3\n",
      "Umami           3\n",
      "Marco           4\n",
      "Petit           4\n",
      "Carbone         4\n",
      "TheGem          6\n",
      "Mise En         7\n",
      "Downtown       10\n",
      "Moonrise       10\n",
      "Belise         14\n",
      "English        19\n",
      "Molino         22\n",
      "Delicio        23\n",
      "Chinese        74\n",
      "Parsi         103\n",
      "Nature        179\n",
      "90's          584\n",
      "Greek        1030\n",
      "Arabian      1373\n",
      "Name: Restaurant Theme, dtype: int64\n",
      "-----------------------------------------------------\n",
      "RESTAURANT THEME in Test:  18\n",
      "English        1\n",
      "Picante        1\n",
      "Petit          1\n",
      "Benedicta      1\n",
      "Ambiance       1\n",
      "Belise         1\n",
      "Marco          1\n",
      "Mise En        2\n",
      "Carbone        2\n",
      "Moonrise       3\n",
      "Delicio        4\n",
      "Molino         7\n",
      "Chinese        8\n",
      "Parsi         18\n",
      "Nature        22\n",
      "90's          75\n",
      "Greek        133\n",
      "Arabian      219\n",
      "Name: Restaurant Theme, dtype: int64\n",
      "\n",
      "\n"
     ]
    }
   ],
   "source": [
    "for column in train_df.columns:\n",
    "    if train_df[column].dtype == 'object':\n",
    "        print(column.upper(),'in Train: ',train_df[column].nunique())\n",
    "        print(train_df[column].value_counts().sort_values())\n",
    "        print('-----------------------------------------------------')\n",
    "        print(column.upper(),'in Test: ',test_df[column].nunique())\n",
    "        print(test_df[column].value_counts().sort_values())\n",
    "        print('\\n')"
   ]
  },
  {
   "cell_type": "code",
   "execution_count": 27,
   "metadata": {},
   "outputs": [],
   "source": [
    "#Combine the test and train \n",
    "train_df['train']=1\n",
    "test_df['train']=0\n",
    "test_df['Annual Turnover'] = 0\n",
    "combined_data = pd.concat([train_df, test_df])"
   ]
  },
  {
   "cell_type": "code",
   "execution_count": 28,
   "metadata": {},
   "outputs": [
    {
     "name": "stdout",
     "output_type": "stream",
     "text": [
      "<class 'pandas.core.frame.DataFrame'>\n",
      "Int64Index: 3993 entries, 0 to 499\n",
      "Data columns (total 32 columns):\n",
      " #   Column                         Non-Null Count  Dtype  \n",
      "---  ------                         --------------  -----  \n",
      " 0   Registration Number            3993 non-null   int64  \n",
      " 1   Annual Turnover                3993 non-null   int64  \n",
      " 2   Cuisine                        3993 non-null   object \n",
      " 3   City                           3993 non-null   object \n",
      " 4   Restaurant Location            3993 non-null   object \n",
      " 5   Facebook Popularity Quotient   3894 non-null   float64\n",
      " 6   Endorsed By                    3993 non-null   object \n",
      " 7   Instagram Popularity Quotient  3937 non-null   float64\n",
      " 8   Fire Audit                     3993 non-null   int64  \n",
      " 9   Liquor License Obtained        3993 non-null   int64  \n",
      " 10  Situated in a Multi Complex    3993 non-null   int64  \n",
      " 11  Dedicated Parking              3993 non-null   int64  \n",
      " 12  Open Sitting Available         3993 non-null   int64  \n",
      " 13  Resturant Tier                 3944 non-null   float64\n",
      " 14  Restaurant Type                3993 non-null   object \n",
      " 15  Restaurant Theme               3993 non-null   object \n",
      " 16  Restaurant Zomato Rating       3993 non-null   int64  \n",
      " 17  Restaurant City Tier           3993 non-null   int64  \n",
      " 18  Order Wait Time                3993 non-null   int64  \n",
      " 19  Staff Responsivness            3993 non-null   int64  \n",
      " 20  Value for Money                3993 non-null   int64  \n",
      " 21  Hygiene Rating                 3993 non-null   int64  \n",
      " 22  Food Rating                    3993 non-null   int64  \n",
      " 23  Overall Restaurant Rating      3747 non-null   float64\n",
      " 24  Live Music Rating              3126 non-null   float64\n",
      " 25  Ambience                       3968 non-null   float64\n",
      " 26  Lively                         3993 non-null   int64  \n",
      " 27  Service                        3993 non-null   int64  \n",
      " 28  Comfortablility                3993 non-null   int64  \n",
      " 29  Privacy                        3993 non-null   int64  \n",
      " 30  days_since                     3993 non-null   int64  \n",
      " 31  train                          3993 non-null   int64  \n",
      "dtypes: float64(6), int64(20), object(6)\n",
      "memory usage: 1.0+ MB\n"
     ]
    }
   ],
   "source": [
    "combined_data.info()"
   ]
  },
  {
   "cell_type": "code",
   "execution_count": 29,
   "metadata": {},
   "outputs": [
    {
     "data": {
      "text/html": [
       "<div>\n",
       "<style scoped>\n",
       "    .dataframe tbody tr th:only-of-type {\n",
       "        vertical-align: middle;\n",
       "    }\n",
       "\n",
       "    .dataframe tbody tr th {\n",
       "        vertical-align: top;\n",
       "    }\n",
       "\n",
       "    .dataframe thead th {\n",
       "        text-align: right;\n",
       "    }\n",
       "</style>\n",
       "<table border=\"1\" class=\"dataframe\">\n",
       "  <thead>\n",
       "    <tr style=\"text-align: right;\">\n",
       "      <th></th>\n",
       "      <th>Annual Turnover</th>\n",
       "      <th>Facebook Popularity Quotient</th>\n",
       "      <th>Instagram Popularity Quotient</th>\n",
       "      <th>Fire Audit</th>\n",
       "      <th>Liquor License Obtained</th>\n",
       "      <th>Situated in a Multi Complex</th>\n",
       "      <th>Dedicated Parking</th>\n",
       "      <th>Open Sitting Available</th>\n",
       "      <th>Resturant Tier</th>\n",
       "      <th>Restaurant Zomato Rating</th>\n",
       "      <th>...</th>\n",
       "      <th>Hygiene Rating</th>\n",
       "      <th>Food Rating</th>\n",
       "      <th>Overall Restaurant Rating</th>\n",
       "      <th>Live Music Rating</th>\n",
       "      <th>Ambience</th>\n",
       "      <th>Lively</th>\n",
       "      <th>Service</th>\n",
       "      <th>Comfortablility</th>\n",
       "      <th>Privacy</th>\n",
       "      <th>days_since</th>\n",
       "    </tr>\n",
       "  </thead>\n",
       "  <tbody>\n",
       "    <tr>\n",
       "      <th>0</th>\n",
       "      <td>42000000</td>\n",
       "      <td>84.3</td>\n",
       "      <td>95.8</td>\n",
       "      <td>1</td>\n",
       "      <td>1</td>\n",
       "      <td>1</td>\n",
       "      <td>0</td>\n",
       "      <td>1</td>\n",
       "      <td>2.0</td>\n",
       "      <td>3</td>\n",
       "      <td>...</td>\n",
       "      <td>5</td>\n",
       "      <td>7</td>\n",
       "      <td>10.0</td>\n",
       "      <td>4.0</td>\n",
       "      <td>8.0</td>\n",
       "      <td>8</td>\n",
       "      <td>6</td>\n",
       "      <td>6</td>\n",
       "      <td>6</td>\n",
       "      <td>4217</td>\n",
       "    </tr>\n",
       "    <tr>\n",
       "      <th>1</th>\n",
       "      <td>50000000</td>\n",
       "      <td>85.4</td>\n",
       "      <td>85.0</td>\n",
       "      <td>1</td>\n",
       "      <td>1</td>\n",
       "      <td>1</td>\n",
       "      <td>1</td>\n",
       "      <td>0</td>\n",
       "      <td>2.0</td>\n",
       "      <td>3</td>\n",
       "      <td>...</td>\n",
       "      <td>7</td>\n",
       "      <td>8</td>\n",
       "      <td>9.0</td>\n",
       "      <td>NaN</td>\n",
       "      <td>5.0</td>\n",
       "      <td>7</td>\n",
       "      <td>7</td>\n",
       "      <td>3</td>\n",
       "      <td>8</td>\n",
       "      <td>4355</td>\n",
       "    </tr>\n",
       "    <tr>\n",
       "      <th>2</th>\n",
       "      <td>32500000</td>\n",
       "      <td>85.0</td>\n",
       "      <td>68.2</td>\n",
       "      <td>1</td>\n",
       "      <td>1</td>\n",
       "      <td>1</td>\n",
       "      <td>1</td>\n",
       "      <td>0</td>\n",
       "      <td>2.0</td>\n",
       "      <td>3</td>\n",
       "      <td>...</td>\n",
       "      <td>3</td>\n",
       "      <td>7</td>\n",
       "      <td>8.0</td>\n",
       "      <td>3.0</td>\n",
       "      <td>7.0</td>\n",
       "      <td>10</td>\n",
       "      <td>5</td>\n",
       "      <td>2</td>\n",
       "      <td>8</td>\n",
       "      <td>3321</td>\n",
       "    </tr>\n",
       "    <tr>\n",
       "      <th>3</th>\n",
       "      <td>110000000</td>\n",
       "      <td>85.6</td>\n",
       "      <td>83.6</td>\n",
       "      <td>0</td>\n",
       "      <td>1</td>\n",
       "      <td>1</td>\n",
       "      <td>1</td>\n",
       "      <td>1</td>\n",
       "      <td>1.0</td>\n",
       "      <td>3</td>\n",
       "      <td>...</td>\n",
       "      <td>6</td>\n",
       "      <td>8</td>\n",
       "      <td>9.0</td>\n",
       "      <td>6.0</td>\n",
       "      <td>7.0</td>\n",
       "      <td>7</td>\n",
       "      <td>4</td>\n",
       "      <td>3</td>\n",
       "      <td>5</td>\n",
       "      <td>4293</td>\n",
       "    </tr>\n",
       "    <tr>\n",
       "      <th>4</th>\n",
       "      <td>20000000</td>\n",
       "      <td>NaN</td>\n",
       "      <td>76.8</td>\n",
       "      <td>1</td>\n",
       "      <td>1</td>\n",
       "      <td>1</td>\n",
       "      <td>1</td>\n",
       "      <td>1</td>\n",
       "      <td>NaN</td>\n",
       "      <td>3</td>\n",
       "      <td>...</td>\n",
       "      <td>4</td>\n",
       "      <td>8</td>\n",
       "      <td>6.0</td>\n",
       "      <td>NaN</td>\n",
       "      <td>NaN</td>\n",
       "      <td>6</td>\n",
       "      <td>2</td>\n",
       "      <td>4</td>\n",
       "      <td>6</td>\n",
       "      <td>3844</td>\n",
       "    </tr>\n",
       "  </tbody>\n",
       "</table>\n",
       "<p>5 rows × 24 columns</p>\n",
       "</div>"
      ],
      "text/plain": [
       "   Annual Turnover  Facebook Popularity Quotient  \\\n",
       "0         42000000                          84.3   \n",
       "1         50000000                          85.4   \n",
       "2         32500000                          85.0   \n",
       "3        110000000                          85.6   \n",
       "4         20000000                           NaN   \n",
       "\n",
       "   Instagram Popularity Quotient  Fire Audit  Liquor License Obtained  \\\n",
       "0                           95.8           1                        1   \n",
       "1                           85.0           1                        1   \n",
       "2                           68.2           1                        1   \n",
       "3                           83.6           0                        1   \n",
       "4                           76.8           1                        1   \n",
       "\n",
       "   Situated in a Multi Complex  Dedicated Parking  Open Sitting Available  \\\n",
       "0                            1                  0                       1   \n",
       "1                            1                  1                       0   \n",
       "2                            1                  1                       0   \n",
       "3                            1                  1                       1   \n",
       "4                            1                  1                       1   \n",
       "\n",
       "   Resturant Tier  Restaurant Zomato Rating  ...  Hygiene Rating  Food Rating  \\\n",
       "0             2.0                         3  ...               5            7   \n",
       "1             2.0                         3  ...               7            8   \n",
       "2             2.0                         3  ...               3            7   \n",
       "3             1.0                         3  ...               6            8   \n",
       "4             NaN                         3  ...               4            8   \n",
       "\n",
       "   Overall Restaurant Rating  Live Music Rating  Ambience  Lively  Service  \\\n",
       "0                       10.0                4.0       8.0       8        6   \n",
       "1                        9.0                NaN       5.0       7        7   \n",
       "2                        8.0                3.0       7.0      10        5   \n",
       "3                        9.0                6.0       7.0       7        4   \n",
       "4                        6.0                NaN       NaN       6        2   \n",
       "\n",
       "   Comfortablility  Privacy  days_since  \n",
       "0                6        6        4217  \n",
       "1                3        8        4355  \n",
       "2                2        8        3321  \n",
       "3                3        5        4293  \n",
       "4                4        6        3844  \n",
       "\n",
       "[5 rows x 24 columns]"
      ]
     },
     "execution_count": 29,
     "metadata": {},
     "output_type": "execute_result"
    }
   ],
   "source": [
    "combined_data[numeric_feats].head()"
   ]
  },
  {
   "cell_type": "code",
   "execution_count": 30,
   "metadata": {},
   "outputs": [],
   "source": [
    "combined_data[categoric_vars] = combined_data[categoric_vars].fillna(combined_data[categoric_vars].mode().iloc[0])"
   ]
  },
  {
   "cell_type": "code",
   "execution_count": 31,
   "metadata": {},
   "outputs": [],
   "source": [
    "from sklearn.impute import SimpleImputer\n",
    "SI = SimpleImputer(strategy='mean')"
   ]
  },
  {
   "cell_type": "code",
   "execution_count": 32,
   "metadata": {},
   "outputs": [],
   "source": [
    "SI.fit(combined_data[numeric_feats])\n",
    "combined_data[numeric_feats] = SI.transform(combined_data[numeric_feats])"
   ]
  },
  {
   "cell_type": "code",
   "execution_count": 33,
   "metadata": {},
   "outputs": [
    {
     "name": "stdout",
     "output_type": "stream",
     "text": [
      "<class 'pandas.core.frame.DataFrame'>\n",
      "Int64Index: 3993 entries, 0 to 499\n",
      "Data columns (total 32 columns):\n",
      " #   Column                         Non-Null Count  Dtype  \n",
      "---  ------                         --------------  -----  \n",
      " 0   Registration Number            3993 non-null   int64  \n",
      " 1   Annual Turnover                3993 non-null   float64\n",
      " 2   Cuisine                        3993 non-null   object \n",
      " 3   City                           3993 non-null   object \n",
      " 4   Restaurant Location            3993 non-null   object \n",
      " 5   Facebook Popularity Quotient   3993 non-null   float64\n",
      " 6   Endorsed By                    3993 non-null   object \n",
      " 7   Instagram Popularity Quotient  3993 non-null   float64\n",
      " 8   Fire Audit                     3993 non-null   float64\n",
      " 9   Liquor License Obtained        3993 non-null   float64\n",
      " 10  Situated in a Multi Complex    3993 non-null   float64\n",
      " 11  Dedicated Parking              3993 non-null   float64\n",
      " 12  Open Sitting Available         3993 non-null   float64\n",
      " 13  Resturant Tier                 3993 non-null   float64\n",
      " 14  Restaurant Type                3993 non-null   object \n",
      " 15  Restaurant Theme               3993 non-null   object \n",
      " 16  Restaurant Zomato Rating       3993 non-null   float64\n",
      " 17  Restaurant City Tier           3993 non-null   float64\n",
      " 18  Order Wait Time                3993 non-null   float64\n",
      " 19  Staff Responsivness            3993 non-null   float64\n",
      " 20  Value for Money                3993 non-null   float64\n",
      " 21  Hygiene Rating                 3993 non-null   float64\n",
      " 22  Food Rating                    3993 non-null   float64\n",
      " 23  Overall Restaurant Rating      3993 non-null   float64\n",
      " 24  Live Music Rating              3993 non-null   float64\n",
      " 25  Ambience                       3993 non-null   float64\n",
      " 26  Lively                         3993 non-null   float64\n",
      " 27  Service                        3993 non-null   float64\n",
      " 28  Comfortablility                3993 non-null   float64\n",
      " 29  Privacy                        3993 non-null   float64\n",
      " 30  days_since                     3993 non-null   float64\n",
      " 31  train                          3993 non-null   int64  \n",
      "dtypes: float64(24), int64(2), object(6)\n",
      "memory usage: 1.0+ MB\n"
     ]
    }
   ],
   "source": [
    "combined_data.info()"
   ]
  },
  {
   "cell_type": "code",
   "execution_count": 34,
   "metadata": {},
   "outputs": [
    {
     "data": {
      "text/plain": [
       "0    0\n",
       "1    1\n",
       "2    2\n",
       "3    3\n",
       "4    4\n",
       "5    5\n",
       "6    6\n",
       "7    0\n",
       "8    7\n",
       "9    8\n",
       "Name: City, dtype: int64"
      ]
     },
     "execution_count": 34,
     "metadata": {},
     "output_type": "execute_result"
    }
   ],
   "source": [
    "combined_data['City'] = pd.factorize(combined_data['City'])[0]\n",
    "combined_data['City'].head(10)"
   ]
  },
  {
   "cell_type": "code",
   "execution_count": 35,
   "metadata": {},
   "outputs": [],
   "source": [
    "combined_data = pd.get_dummies(combined_data, columns=['Cuisine','Restaurant Location','Endorsed By','Restaurant Type','Restaurant Theme'],drop_first=True)"
   ]
  },
  {
   "cell_type": "code",
   "execution_count": 36,
   "metadata": {},
   "outputs": [
    {
     "name": "stdout",
     "output_type": "stream",
     "text": [
      "<class 'pandas.core.frame.DataFrame'>\n",
      "Int64Index: 3993 entries, 0 to 499\n",
      "Data columns (total 85 columns):\n",
      " #   Column                                    Non-Null Count  Dtype  \n",
      "---  ------                                    --------------  -----  \n",
      " 0   Registration Number                       3993 non-null   int64  \n",
      " 1   Annual Turnover                           3993 non-null   float64\n",
      " 2   City                                      3993 non-null   int64  \n",
      " 3   Facebook Popularity Quotient              3993 non-null   float64\n",
      " 4   Instagram Popularity Quotient             3993 non-null   float64\n",
      " 5   Fire Audit                                3993 non-null   float64\n",
      " 6   Liquor License Obtained                   3993 non-null   float64\n",
      " 7   Situated in a Multi Complex               3993 non-null   float64\n",
      " 8   Dedicated Parking                         3993 non-null   float64\n",
      " 9   Open Sitting Available                    3993 non-null   float64\n",
      " 10  Resturant Tier                            3993 non-null   float64\n",
      " 11  Restaurant Zomato Rating                  3993 non-null   float64\n",
      " 12  Restaurant City Tier                      3993 non-null   float64\n",
      " 13  Order Wait Time                           3993 non-null   float64\n",
      " 14  Staff Responsivness                       3993 non-null   float64\n",
      " 15  Value for Money                           3993 non-null   float64\n",
      " 16  Hygiene Rating                            3993 non-null   float64\n",
      " 17  Food Rating                               3993 non-null   float64\n",
      " 18  Overall Restaurant Rating                 3993 non-null   float64\n",
      " 19  Live Music Rating                         3993 non-null   float64\n",
      " 20  Ambience                                  3993 non-null   float64\n",
      " 21  Lively                                    3993 non-null   float64\n",
      " 22  Service                                   3993 non-null   float64\n",
      " 23  Comfortablility                           3993 non-null   float64\n",
      " 24  Privacy                                   3993 non-null   float64\n",
      " 25  days_since                                3993 non-null   float64\n",
      " 26  train                                     3993 non-null   int64  \n",
      " 27  Cuisine_algerian,belgian                  3993 non-null   uint8  \n",
      " 28  Cuisine_algerian,korean                   3993 non-null   uint8  \n",
      " 29  Cuisine_british,belgian                   3993 non-null   uint8  \n",
      " 30  Cuisine_british,japanese                  3993 non-null   uint8  \n",
      " 31  Cuisine_chinese,salvadorian               3993 non-null   uint8  \n",
      " 32  Cuisine_cuban,british                     3993 non-null   uint8  \n",
      " 33  Cuisine_hawaiian,latvian                  3993 non-null   uint8  \n",
      " 34  Cuisine_indian,irish                      3993 non-null   uint8  \n",
      " 35  Cuisine_irish,belgian                     3993 non-null   uint8  \n",
      " 36  Cuisine_japanese,thai                     3993 non-null   uint8  \n",
      " 37  Cuisine_nigerian,cajun                    3993 non-null   uint8  \n",
      " 38  Cuisine_peruvian,cuban                    3993 non-null   uint8  \n",
      " 39  Cuisine_polish,jewish                     3993 non-null   uint8  \n",
      " 40  Cuisine_swedish,greek                     3993 non-null   uint8  \n",
      " 41  Cuisine_tibetan,greek                     3993 non-null   uint8  \n",
      " 42  Cuisine_tibetan,italian                   3993 non-null   uint8  \n",
      " 43  Cuisine_turkish,nigerian                  3993 non-null   uint8  \n",
      " 44  Cuisine_turkish,sapnish                   3993 non-null   uint8  \n",
      " 45  Cuisine_welsh,thai                        3993 non-null   uint8  \n",
      " 46  Restaurant Location_Near Party Hub        3993 non-null   uint8  \n",
      " 47  Endorsed By_Not Specific                  3993 non-null   uint8  \n",
      " 48  Endorsed By_Tier A Celebrity              3993 non-null   uint8  \n",
      " 49  Restaurant Type_Buffet/Family Restaurant  3993 non-null   uint8  \n",
      " 50  Restaurant Type_Caffee                    3993 non-null   uint8  \n",
      " 51  Restaurant Type_Gastro Bar                3993 non-null   uint8  \n",
      " 52  Restaurant Theme_Ambiance                 3993 non-null   uint8  \n",
      " 53  Restaurant Theme_Arabian                  3993 non-null   uint8  \n",
      " 54  Restaurant Theme_Bakery                   3993 non-null   uint8  \n",
      " 55  Restaurant Theme_Belise                   3993 non-null   uint8  \n",
      " 56  Restaurant Theme_Benedicta                3993 non-null   uint8  \n",
      " 57  Restaurant Theme_Bettaso                  3993 non-null   uint8  \n",
      " 58  Restaurant Theme_Cafepro                  3993 non-null   uint8  \n",
      " 59  Restaurant Theme_Carbone                  3993 non-null   uint8  \n",
      " 60  Restaurant Theme_Chinese                  3993 non-null   uint8  \n",
      " 61  Restaurant Theme_Cinnamon                 3993 non-null   uint8  \n",
      " 62  Restaurant Theme_Delicio                  3993 non-null   uint8  \n",
      " 63  Restaurant Theme_Downtown                 3993 non-null   uint8  \n",
      " 64  Restaurant Theme_English                  3993 non-null   uint8  \n",
      " 65  Restaurant Theme_Flavors                  3993 non-null   uint8  \n",
      " 66  Restaurant Theme_Grand                    3993 non-null   uint8  \n",
      " 67  Restaurant Theme_Greek                    3993 non-null   uint8  \n",
      " 68  Restaurant Theme_Italica                  3993 non-null   uint8  \n",
      " 69  Restaurant Theme_LaCuisine                3993 non-null   uint8  \n",
      " 70  Restaurant Theme_Marco                    3993 non-null   uint8  \n",
      " 71  Restaurant Theme_Mise En                  3993 non-null   uint8  \n",
      " 72  Restaurant Theme_Molino                   3993 non-null   uint8  \n",
      " 73  Restaurant Theme_Moonrise                 3993 non-null   uint8  \n",
      " 74  Restaurant Theme_Nature                   3993 non-null   uint8  \n",
      " 75  Restaurant Theme_Parsi                    3993 non-null   uint8  \n",
      " 76  Restaurant Theme_Petit                    3993 non-null   uint8  \n",
      " 77  Restaurant Theme_Picante                  3993 non-null   uint8  \n",
      " 78  Restaurant Theme_Piquant                  3993 non-null   uint8  \n",
      " 79  Restaurant Theme_Resca                    3993 non-null   uint8  \n",
      " 80  Restaurant Theme_Sage                     3993 non-null   uint8  \n",
      " 81  Restaurant Theme_Savory                   3993 non-null   uint8  \n",
      " 82  Restaurant Theme_Spoon                    3993 non-null   uint8  \n",
      " 83  Restaurant Theme_TheGem                   3993 non-null   uint8  \n",
      " 84  Restaurant Theme_Umami                    3993 non-null   uint8  \n",
      "dtypes: float64(24), int64(3), uint8(58)\n",
      "memory usage: 1.1 MB\n"
     ]
    }
   ],
   "source": [
    "combined_data.info()"
   ]
  },
  {
   "cell_type": "code",
   "execution_count": 37,
   "metadata": {},
   "outputs": [],
   "source": [
    "train_df = combined_data[combined_data[\"train\"]==1]\n",
    "#train_df[numeric_feats] = np.log1p(train_df[numeric_feats])"
   ]
  },
  {
   "cell_type": "code",
   "execution_count": 38,
   "metadata": {},
   "outputs": [],
   "source": [
    "test_df = combined_data[combined_data[\"train\"]==0]"
   ]
  },
  {
   "cell_type": "code",
   "execution_count": 39,
   "metadata": {},
   "outputs": [],
   "source": [
    "test_df = test_df.drop('Annual Turnover', axis=1)\n",
    "#test_df[test_numeric_feats] = np.log1p(test_df[test_numeric_feats])"
   ]
  },
  {
   "cell_type": "code",
   "execution_count": 40,
   "metadata": {},
   "outputs": [
    {
     "name": "stdout",
     "output_type": "stream",
     "text": [
      "<class 'pandas.core.frame.DataFrame'>\n",
      "Int64Index: 500 entries, 0 to 499\n",
      "Data columns (total 84 columns):\n",
      " #   Column                                    Non-Null Count  Dtype  \n",
      "---  ------                                    --------------  -----  \n",
      " 0   Registration Number                       500 non-null    int64  \n",
      " 1   City                                      500 non-null    int64  \n",
      " 2   Facebook Popularity Quotient              500 non-null    float64\n",
      " 3   Instagram Popularity Quotient             500 non-null    float64\n",
      " 4   Fire Audit                                500 non-null    float64\n",
      " 5   Liquor License Obtained                   500 non-null    float64\n",
      " 6   Situated in a Multi Complex               500 non-null    float64\n",
      " 7   Dedicated Parking                         500 non-null    float64\n",
      " 8   Open Sitting Available                    500 non-null    float64\n",
      " 9   Resturant Tier                            500 non-null    float64\n",
      " 10  Restaurant Zomato Rating                  500 non-null    float64\n",
      " 11  Restaurant City Tier                      500 non-null    float64\n",
      " 12  Order Wait Time                           500 non-null    float64\n",
      " 13  Staff Responsivness                       500 non-null    float64\n",
      " 14  Value for Money                           500 non-null    float64\n",
      " 15  Hygiene Rating                            500 non-null    float64\n",
      " 16  Food Rating                               500 non-null    float64\n",
      " 17  Overall Restaurant Rating                 500 non-null    float64\n",
      " 18  Live Music Rating                         500 non-null    float64\n",
      " 19  Ambience                                  500 non-null    float64\n",
      " 20  Lively                                    500 non-null    float64\n",
      " 21  Service                                   500 non-null    float64\n",
      " 22  Comfortablility                           500 non-null    float64\n",
      " 23  Privacy                                   500 non-null    float64\n",
      " 24  days_since                                500 non-null    float64\n",
      " 25  train                                     500 non-null    int64  \n",
      " 26  Cuisine_algerian,belgian                  500 non-null    uint8  \n",
      " 27  Cuisine_algerian,korean                   500 non-null    uint8  \n",
      " 28  Cuisine_british,belgian                   500 non-null    uint8  \n",
      " 29  Cuisine_british,japanese                  500 non-null    uint8  \n",
      " 30  Cuisine_chinese,salvadorian               500 non-null    uint8  \n",
      " 31  Cuisine_cuban,british                     500 non-null    uint8  \n",
      " 32  Cuisine_hawaiian,latvian                  500 non-null    uint8  \n",
      " 33  Cuisine_indian,irish                      500 non-null    uint8  \n",
      " 34  Cuisine_irish,belgian                     500 non-null    uint8  \n",
      " 35  Cuisine_japanese,thai                     500 non-null    uint8  \n",
      " 36  Cuisine_nigerian,cajun                    500 non-null    uint8  \n",
      " 37  Cuisine_peruvian,cuban                    500 non-null    uint8  \n",
      " 38  Cuisine_polish,jewish                     500 non-null    uint8  \n",
      " 39  Cuisine_swedish,greek                     500 non-null    uint8  \n",
      " 40  Cuisine_tibetan,greek                     500 non-null    uint8  \n",
      " 41  Cuisine_tibetan,italian                   500 non-null    uint8  \n",
      " 42  Cuisine_turkish,nigerian                  500 non-null    uint8  \n",
      " 43  Cuisine_turkish,sapnish                   500 non-null    uint8  \n",
      " 44  Cuisine_welsh,thai                        500 non-null    uint8  \n",
      " 45  Restaurant Location_Near Party Hub        500 non-null    uint8  \n",
      " 46  Endorsed By_Not Specific                  500 non-null    uint8  \n",
      " 47  Endorsed By_Tier A Celebrity              500 non-null    uint8  \n",
      " 48  Restaurant Type_Buffet/Family Restaurant  500 non-null    uint8  \n",
      " 49  Restaurant Type_Caffee                    500 non-null    uint8  \n",
      " 50  Restaurant Type_Gastro Bar                500 non-null    uint8  \n",
      " 51  Restaurant Theme_Ambiance                 500 non-null    uint8  \n",
      " 52  Restaurant Theme_Arabian                  500 non-null    uint8  \n",
      " 53  Restaurant Theme_Bakery                   500 non-null    uint8  \n",
      " 54  Restaurant Theme_Belise                   500 non-null    uint8  \n",
      " 55  Restaurant Theme_Benedicta                500 non-null    uint8  \n",
      " 56  Restaurant Theme_Bettaso                  500 non-null    uint8  \n",
      " 57  Restaurant Theme_Cafepro                  500 non-null    uint8  \n",
      " 58  Restaurant Theme_Carbone                  500 non-null    uint8  \n",
      " 59  Restaurant Theme_Chinese                  500 non-null    uint8  \n",
      " 60  Restaurant Theme_Cinnamon                 500 non-null    uint8  \n",
      " 61  Restaurant Theme_Delicio                  500 non-null    uint8  \n",
      " 62  Restaurant Theme_Downtown                 500 non-null    uint8  \n",
      " 63  Restaurant Theme_English                  500 non-null    uint8  \n",
      " 64  Restaurant Theme_Flavors                  500 non-null    uint8  \n",
      " 65  Restaurant Theme_Grand                    500 non-null    uint8  \n",
      " 66  Restaurant Theme_Greek                    500 non-null    uint8  \n",
      " 67  Restaurant Theme_Italica                  500 non-null    uint8  \n",
      " 68  Restaurant Theme_LaCuisine                500 non-null    uint8  \n",
      " 69  Restaurant Theme_Marco                    500 non-null    uint8  \n",
      " 70  Restaurant Theme_Mise En                  500 non-null    uint8  \n",
      " 71  Restaurant Theme_Molino                   500 non-null    uint8  \n",
      " 72  Restaurant Theme_Moonrise                 500 non-null    uint8  \n",
      " 73  Restaurant Theme_Nature                   500 non-null    uint8  \n",
      " 74  Restaurant Theme_Parsi                    500 non-null    uint8  \n",
      " 75  Restaurant Theme_Petit                    500 non-null    uint8  \n",
      " 76  Restaurant Theme_Picante                  500 non-null    uint8  \n",
      " 77  Restaurant Theme_Piquant                  500 non-null    uint8  \n",
      " 78  Restaurant Theme_Resca                    500 non-null    uint8  \n",
      " 79  Restaurant Theme_Sage                     500 non-null    uint8  \n",
      " 80  Restaurant Theme_Savory                   500 non-null    uint8  \n",
      " 81  Restaurant Theme_Spoon                    500 non-null    uint8  \n",
      " 82  Restaurant Theme_TheGem                   500 non-null    uint8  \n",
      " 83  Restaurant Theme_Umami                    500 non-null    uint8  \n",
      "dtypes: float64(23), int64(3), uint8(58)\n",
      "memory usage: 133.8 KB\n"
     ]
    }
   ],
   "source": [
    "test_df.info()"
   ]
  },
  {
   "cell_type": "code",
   "execution_count": 41,
   "metadata": {},
   "outputs": [],
   "source": [
    "every_column_except_y= [col for col in train_df.columns if col not in ['Annual Turnover','Registration Number']]"
   ]
  },
  {
   "cell_type": "code",
   "execution_count": 42,
   "metadata": {},
   "outputs": [],
   "source": [
    "y_train = train_df['Annual Turnover']"
   ]
  },
  {
   "cell_type": "code",
   "execution_count": 43,
   "metadata": {},
   "outputs": [],
   "source": [
    "X_train = train_df[every_column_except_y]"
   ]
  },
  {
   "cell_type": "code",
   "execution_count": 44,
   "metadata": {},
   "outputs": [],
   "source": [
    "X_test = test_df[every_column_except_y]"
   ]
  },
  {
   "cell_type": "code",
   "execution_count": 45,
   "metadata": {},
   "outputs": [],
   "source": [
    "X_train = X_train.drop('train', axis=1)\n",
    "X_test = X_test.drop('train', axis=1)"
   ]
  },
  {
   "cell_type": "markdown",
   "metadata": {},
   "source": [
    "## Linear Regression"
   ]
  },
  {
   "cell_type": "code",
   "execution_count": 46,
   "metadata": {},
   "outputs": [],
   "source": [
    "lr = LinearRegression()\n",
    "lr_model = lr.fit(X_train,y_train)"
   ]
  },
  {
   "cell_type": "code",
   "execution_count": 47,
   "metadata": {},
   "outputs": [
    {
     "name": "stdout",
     "output_type": "stream",
     "text": [
      "The coefficient for City is -10035.05\n",
      "The coefficient for Facebook Popularity Quotient is 113160.06\n",
      "The coefficient for Instagram Popularity Quotient is 192481.73\n",
      "The coefficient for Fire Audit is 1154881.14\n",
      "The coefficient for Liquor License Obtained is 4986693.99\n",
      "The coefficient for Situated in a Multi Complex is -3575716.34\n",
      "The coefficient for Dedicated Parking is 1041553.94\n",
      "The coefficient for Open Sitting Available is 581282.02\n",
      "The coefficient for Resturant Tier is -9244804.8\n",
      "The coefficient for Restaurant Zomato Rating is 1654722.66\n",
      "The coefficient for Restaurant City Tier is -1555204.02\n",
      "The coefficient for Order Wait Time is -30353.02\n",
      "The coefficient for Staff Responsivness is 1019003.25\n",
      "The coefficient for Value for Money is 625872.01\n",
      "The coefficient for Hygiene Rating is 1167306.45\n",
      "The coefficient for Food Rating is 54243.62\n",
      "The coefficient for Overall Restaurant Rating is 443792.77\n",
      "The coefficient for Live Music Rating is 915430.92\n",
      "The coefficient for Ambience is -652749.9\n",
      "The coefficient for Lively is 621385.65\n",
      "The coefficient for Service is 28095.59\n",
      "The coefficient for Comfortablility is -365899.81\n",
      "The coefficient for Privacy is -557308.73\n",
      "The coefficient for days_since is 6814.97\n",
      "The coefficient for Cuisine_algerian,belgian is -2016065.03\n",
      "The coefficient for Cuisine_algerian,korean is -542156.08\n",
      "The coefficient for Cuisine_british,belgian is -587443.02\n",
      "The coefficient for Cuisine_british,japanese is 556323.35\n",
      "The coefficient for Cuisine_chinese,salvadorian is -4204541.01\n",
      "The coefficient for Cuisine_cuban,british is -3841126.25\n",
      "The coefficient for Cuisine_hawaiian,latvian is 7753878.61\n",
      "The coefficient for Cuisine_indian,irish is 184969.98\n",
      "The coefficient for Cuisine_irish,belgian is -8396929.79\n",
      "The coefficient for Cuisine_japanese,thai is 1153834.32\n",
      "The coefficient for Cuisine_nigerian,cajun is 773612.36\n",
      "The coefficient for Cuisine_peruvian,cuban is -2304501.36\n",
      "The coefficient for Cuisine_polish,jewish is 2042075.52\n",
      "The coefficient for Cuisine_swedish,greek is -3559834.33\n",
      "The coefficient for Cuisine_tibetan,greek is 401338.51\n",
      "The coefficient for Cuisine_tibetan,italian is -1485775.55\n",
      "The coefficient for Cuisine_turkish,nigerian is 2937102.15\n",
      "The coefficient for Cuisine_turkish,sapnish is -4440784.57\n",
      "The coefficient for Cuisine_welsh,thai is -4752692.3\n",
      "The coefficient for Restaurant Location_Near Party Hub is 1793758.17\n",
      "The coefficient for Endorsed By_Not Specific is -1659882.15\n",
      "The coefficient for Endorsed By_Tier A Celebrity is -2180182.27\n",
      "The coefficient for Restaurant Type_Buffet/Family Restaurant is 4333086.48\n",
      "The coefficient for Restaurant Type_Caffee is -3042177.11\n",
      "The coefficient for Restaurant Type_Gastro Bar is -356612.42\n",
      "The coefficient for Restaurant Theme_Ambiance is -16441938.3\n",
      "The coefficient for Restaurant Theme_Arabian is 730906.36\n",
      "The coefficient for Restaurant Theme_Bakery is -9812085.28\n",
      "The coefficient for Restaurant Theme_Belise is -8758615.66\n",
      "The coefficient for Restaurant Theme_Benedicta is -2764310.61\n",
      "The coefficient for Restaurant Theme_Bettaso is -14957069.18\n",
      "The coefficient for Restaurant Theme_Cafepro is 5435308.13\n",
      "The coefficient for Restaurant Theme_Carbone is 5348402.71\n",
      "The coefficient for Restaurant Theme_Chinese is -2704823.3\n",
      "The coefficient for Restaurant Theme_Cinnamon is -13466030.6\n",
      "The coefficient for Restaurant Theme_Delicio is 2389582.85\n",
      "The coefficient for Restaurant Theme_Downtown is 4908093.22\n",
      "The coefficient for Restaurant Theme_English is 5470373.34\n",
      "The coefficient for Restaurant Theme_Flavors is -288058.93\n",
      "The coefficient for Restaurant Theme_Grand is -13526982.46\n",
      "The coefficient for Restaurant Theme_Greek is -1962341.41\n",
      "The coefficient for Restaurant Theme_Italica is -5403423.42\n",
      "The coefficient for Restaurant Theme_LaCuisine is 21719527.71\n",
      "The coefficient for Restaurant Theme_Marco is -9482825.43\n",
      "The coefficient for Restaurant Theme_Mise En is -4714276.34\n",
      "The coefficient for Restaurant Theme_Molino is 4189512.52\n",
      "The coefficient for Restaurant Theme_Moonrise is -9905157.47\n",
      "The coefficient for Restaurant Theme_Nature is 1420978.75\n",
      "The coefficient for Restaurant Theme_Parsi is -2371955.58\n",
      "The coefficient for Restaurant Theme_Petit is -4810670.52\n",
      "The coefficient for Restaurant Theme_Picante is -2317367.42\n",
      "The coefficient for Restaurant Theme_Piquant is 4333086.48\n",
      "The coefficient for Restaurant Theme_Resca is -9047964.59\n",
      "The coefficient for Restaurant Theme_Sage is 4959433.83\n",
      "The coefficient for Restaurant Theme_Savory is 3035345.43\n",
      "The coefficient for Restaurant Theme_Spoon is -10056260.26\n",
      "The coefficient for Restaurant Theme_TheGem is 151769.24\n",
      "The coefficient for Restaurant Theme_Umami is -16885591.36\n"
     ]
    }
   ],
   "source": [
    "for idx, col_name in enumerate(X_train.columns):\n",
    "    print(\"The coefficient for {} is {}\".format(col_name, np.round(lr_model.coef_[idx],2)))"
   ]
  },
  {
   "cell_type": "code",
   "execution_count": 48,
   "metadata": {},
   "outputs": [],
   "source": [
    "coef_df = pd.DataFrame({ 'columns' : X_train.columns,\n",
    "                       'coef' : lr_model.coef_})\n",
    "sorted_coef = coef_df.sort_values('coef', ascending = False)"
   ]
  },
  {
   "cell_type": "code",
   "execution_count": 49,
   "metadata": {},
   "outputs": [
    {
     "data": {
      "text/plain": [
       "<matplotlib.axes._subplots.AxesSubplot at 0x1a47af5a488>"
      ]
     },
     "execution_count": 49,
     "metadata": {},
     "output_type": "execute_result"
    },
    {
     "data": {
      "image/png": "[encoded data removed]",
      "text/plain": [
       "<Figure size 720x1440 with 1 Axes>"
      ]
     },
     "metadata": {
      "needs_background": "light"
     },
     "output_type": "display_data"
    }
   ],
   "source": [
    "plt.figure(figsize = (10,20))\n",
    "sns.barplot(x = \"coef\", y = \"columns\", data= sorted_coef)"
   ]
  },
  {
   "cell_type": "code",
   "execution_count": 50,
   "metadata": {},
   "outputs": [],
   "source": [
    "#X_train = X_train.drop('Instagram Popularity Quotient', axis=1)\n",
    "#X_train = X_train.drop('Cuisine_indian,irish', axis=1)\n",
    "#X_train = X_train.drop('Restaurant Theme_TheGem', axis=1)\n",
    "#X_train = X_train.drop('Facebook Popularity Quotient', axis=1)\n",
    "#X_train = X_train.drop('Food Rating', axis=1)\n",
    "#X_train = X_train.drop('Service', axis=1)\n",
    "#X_train = X_train.drop('days_since', axis=1)\n",
    "#X_train = X_train.drop('train', axis=1)\n",
    "#X_train = X_train.drop('City', axis=1)\n",
    "#X_train = X_train.drop('Order Wait Time', axis=1)\n",
    "#X_train = X_train.drop('Restaurant Theme_Flavors', axis=1)\n",
    "#X_train = X_train.drop('Restaurant Type_Gastro Bar', axis=1)\n",
    "\n",
    "#X_test = X_test.drop('Instagram Popularity Quotient', axis=1)\n",
    "#X_test = X_test.drop('Cuisine_indian,irish', axis=1)\n",
    "#X_test = X_test.drop('Restaurant Theme_TheGem', axis=1)\n",
    "#X_test = X_test.drop('Facebook Popularity Quotient', axis=1)\n",
    "#X_test = X_test.drop('Food Rating', axis=1)\n",
    "#X_test = X_test.drop('Service', axis=1)\n",
    "#X_test = X_test.drop('days_since', axis=1)\n",
    "#X_test = X_test.drop('train', axis=1)\n",
    "#X_test = X_test.drop('City', axis=1)\n",
    "#X_test = X_test.drop('Order Wait Time', axis=1)\n",
    "#X_test = X_test.drop('Restaurant Theme_Flavors', axis=1)\n",
    "#X_test = X_test.drop('Restaurant Type_Gastro Bar', axis=1)"
   ]
  },
  {
   "cell_type": "code",
   "execution_count": 51,
   "metadata": {},
   "outputs": [],
   "source": [
    "lr_model = lr.fit(X_train,y_train)"
   ]
  },
  {
   "cell_type": "code",
   "execution_count": 52,
   "metadata": {},
   "outputs": [
    {
     "data": {
      "text/plain": [
       "array([23504828.44457103, 37484618.88306357, 24894148.31699162,\n",
       "       47341907.58338699, 41885544.59128925, 37952498.23564169,\n",
       "       26249620.11671716, 41419942.7421177 , 26434389.28662133,\n",
       "       21488898.70711705, 18878939.39113196, 34945682.03717408,\n",
       "       28813352.00921595, 32200429.25956334, 16545998.17670791,\n",
       "       36618030.2221386 , 40859199.23677728, 18130264.2768273 ,\n",
       "       37705575.66740085, 29684956.51669395, 11473706.94860911,\n",
       "       38203373.23331873, 29272468.41861023, 21346783.2297065 ,\n",
       "       33704599.41424374, 22282235.18653316, 37480525.4133063 ,\n",
       "       32612207.02846136, 31423590.51825477, 25163005.43463975,\n",
       "       31698228.06885537, 35871472.26991162, 28950099.73175521,\n",
       "       38267649.59548105, 26278890.37659392, 25413055.35171762,\n",
       "       42802599.20213909, 33686476.8985236 , 23232343.82557357,\n",
       "       27637158.60948571, 23877804.19940256, 22897996.61171322,\n",
       "       29139473.46814566, 23228762.97852808, 37910161.47390163,\n",
       "       20165414.8821968 , 23007291.43327083, 39331322.55240855,\n",
       "       28062670.24081564, 28200288.5127391 , 36833486.86201091,\n",
       "       40262921.07667811, 20005650.1246259 , 19229501.88847689,\n",
       "       35985449.5161753 , 35482967.83128871, 22374434.27242373,\n",
       "       37921420.20406808, 37893292.21904564, 32360174.48171854,\n",
       "       25668971.50715682, 31234346.96617643, 40768762.93959747,\n",
       "       43661417.50905956, 31945099.66517756, 28859209.09093973,\n",
       "       22853820.29067919, 20596397.15144439, 29884241.94533109,\n",
       "       51814582.83391419, 30662128.29758393, 32973063.81685497,\n",
       "       21426765.91329362, 28494191.53399024, 25041664.99243181,\n",
       "       31595030.67151728, 39297220.11515884, 29713014.54452512,\n",
       "       29423995.12213643, 24170799.91193799, 33819295.53161898,\n",
       "       32938635.25822042, 31296981.45109021, 33845691.40717399,\n",
       "       37616002.07789099, 27504416.51700963, 23572484.27514274,\n",
       "       31165165.40063727, 47067673.88396414, 29828952.42078315,\n",
       "       34887976.49509904, 17417770.17492025, 35377794.02369712,\n",
       "       26971618.80440566, 35080512.93320037, 33711866.90931289,\n",
       "       25921820.40745636, 24630769.7732501 , 28128380.53709234,\n",
       "       23666128.56486629, 37006003.87908924, 28519322.68172013,\n",
       "       34418593.71115366, 28851658.34656667, 48509651.37251467,\n",
       "       41671036.32691054, 39355624.07387264, 29323671.59964173,\n",
       "       25729283.9615029 , 27566874.02106156, 24018469.16528228,\n",
       "       39261145.32695569, 20816283.85164437, 41734869.30374697,\n",
       "       33957520.4893706 , 43698017.78574046, 18902407.17268243,\n",
       "       37938122.66811143, 28618259.89636185, 46891822.2453358 ,\n",
       "       16681056.7051317 , 32206668.02540597, 30154298.16750285,\n",
       "       20184015.98669666, 53399559.06180482, 25925960.14491751,\n",
       "       25886568.09531375, 24466152.64961744, 34684446.56821963,\n",
       "       34773697.50558144, 28729320.79689343, 10282992.876259  ,\n",
       "       19696987.28909309, 35862925.20953949, 35324749.27059793,\n",
       "       25485952.29452129, 40277278.16178297, 30427166.07260894,\n",
       "       32929697.61089995, 27836871.20453001, 39957997.62914364,\n",
       "       32046557.86195035, 29369021.8816686 , 18596457.93272545,\n",
       "       27384103.77479737, 36016038.41459286, 52064091.56796959,\n",
       "       31564088.49960013, 23110013.45014231, 21970491.27775219,\n",
       "       35662666.05462933, 21515465.25159461, 25356715.49758426,\n",
       "       26122939.00095107, 37496534.092575  , 22427234.68274469,\n",
       "       31291633.58011498, 36511700.99103712, 31247847.59917931,\n",
       "       28307486.11612865, 28757315.88424543, 26908249.59878399,\n",
       "       31219266.02202189, 39620355.08308515, 31837477.06420911,\n",
       "       33362117.53514976, 26166706.79815063, 30474562.51634796,\n",
       "       35995236.1836552 , 25393724.02498331, 36070234.84426516,\n",
       "       42512893.92306969, 23903161.93124614, 37724630.49317348,\n",
       "       34651055.72913443, 32989898.17976304, 27103080.04327626,\n",
       "       22567280.04697498, 20563912.25614421, 36652731.69522931,\n",
       "       38293279.30479579, 36129160.72659631, 28809167.98691689,\n",
       "       28942655.53805914, 23660814.13178763, 22875020.90677449,\n",
       "       28752198.84654107, 21747671.44737839, 42259927.67178221,\n",
       "       42383785.24840049, 24222304.52621458, 30328425.4769689 ,\n",
       "       28706806.84988344, 27803953.971979  , 26468127.80286654,\n",
       "       33115064.19465513, 34754020.75589895, 21043069.13063252,\n",
       "       33088079.97731057, 47882448.58721524, 35170192.13461696,\n",
       "       37668686.66887403, 20365244.39217406, 25971683.65050611,\n",
       "       22558287.36357046, 47412701.18333596, 31081888.412877  ,\n",
       "       33529336.55535587, 30815540.99804917, 25853727.2784573 ,\n",
       "       25310602.56688621, 29788950.95003869, 34466966.80013703,\n",
       "       24341673.92162548, 21740984.0147855 , 18523735.67190541,\n",
       "       32764246.89506685, 41220838.36880518, 41133062.21228758,\n",
       "       38043046.45266348, 27131602.87891677, 23974951.64525131,\n",
       "       21394101.70575299, 20964403.10588506, 34940120.31764396,\n",
       "       29729858.01772879, 38336446.81132387, 35172511.90759541,\n",
       "       31783266.76457483, 25807452.18070684, 19611080.6731498 ,\n",
       "       39556155.13222602, 31877877.06310251, 45672301.92209511,\n",
       "       22985412.22411464, 24869415.83251273, 32631443.37267748,\n",
       "       27877804.86698274, 28915820.11217419, 43894245.33467379,\n",
       "       17155200.61913335, 27040917.29682374, 38305320.80541879,\n",
       "       18159612.34132065, 32171615.22989983, 25697540.61233408,\n",
       "       16440679.38805224, 30204372.27956149, 21364186.57209636,\n",
       "       28679734.02055637, 39131919.75822927, 48049658.20344327,\n",
       "       26935270.97837904, 31097392.43333876, 31216680.94205604,\n",
       "       26673167.86844264, 22784317.08190477, 36587950.18607986,\n",
       "       43012182.20223136, 24829339.86172706, 36847601.25884198,\n",
       "       16328719.31786526, 38117935.4816834 , 24963703.91029925,\n",
       "       26382340.9559795 , 18403493.73678637, 25808829.35160687,\n",
       "       30360905.84037646, 38718942.3636277 , 30170434.93890016,\n",
       "       47304231.94894579, 32024298.80439026, 26198061.20514178,\n",
       "       15463688.07849574, 34140019.36103342, 35503901.73305441,\n",
       "       18526199.57420928, 33591671.06640631, 35715256.10593362,\n",
       "       32198198.86623952, 21822683.75807812, 37702242.13889338,\n",
       "       24508759.90950661, 25677102.0384148 , 22970255.64434874,\n",
       "       38592113.67192532, 26406880.20666918, 23531827.886131  ,\n",
       "       35000308.76005982, 35398181.83814928, 38739154.29994297,\n",
       "       30688702.08863668, 29241299.7060657 , 34619126.172489  ,\n",
       "       25456185.43451395, 22747718.01542217, 10207886.4951305 ,\n",
       "       26710411.0980772 , 41976156.08389325, 23419651.36810629,\n",
       "       17897640.62071399, 35368918.56462389, 18391219.86018488,\n",
       "       23579241.33551491, 39676210.99295565, 30333878.79161412,\n",
       "       31059718.20980112, 16860924.39092937, 33401583.68005491,\n",
       "       32575854.82614589, 24143379.64132217, 36150141.84656487,\n",
       "       36142292.09384608, 21241768.58792518, 28671806.6885928 ,\n",
       "       28998696.69913137, 14018096.23334577, 23838104.76385283,\n",
       "       18864809.43233027, 15572663.14433513, 33474156.49497641,\n",
       "       32268347.37564098, 26259676.22062239, 45176723.98088856,\n",
       "       27366877.24174201, 29224580.48299948, 30450725.22042438,\n",
       "       13629679.5469409 , 20985804.32883344, 32126800.1747364 ,\n",
       "       33635872.24778596, 33325655.9359594 , 38545163.37520288,\n",
       "       47561232.90812391, 36965616.11984473, 37391353.60276921,\n",
       "       37628058.25821704, 26787090.76128095, 49019628.71777852,\n",
       "       31895468.2377679 , 37499532.96903136, 19748503.23052647,\n",
       "       37274791.15685697, 25163638.44730317, 16715589.70063807,\n",
       "       36330630.66342619, 39202149.15545087, 28501508.60654429,\n",
       "       35476363.87577197, 25293996.86561721, 38850900.30884041,\n",
       "       16547430.78944408, 36043781.14048217, 24532754.64937215,\n",
       "       21781248.83329687, 24844461.27815286, 43166574.20941567,\n",
       "       35594426.35692468, 30874928.14980527, 26287641.42847129,\n",
       "       24116035.90363572, 19319875.00807358, 26601770.10577728,\n",
       "       42841236.95192194, 17565596.24998336, 34763637.44793923,\n",
       "       20060019.80701851, 29463616.91505747, 50645576.58021358,\n",
       "       39792542.31295003, 51718449.91198401, 38387669.6071175 ,\n",
       "       26520837.10855842, 19207279.31164477, 28451090.46744482,\n",
       "       17779551.15758061, 27752776.63576725, 32169233.4089396 ,\n",
       "       33504966.13086774, 30067233.74288885, 39387592.99378364,\n",
       "       21024378.11211088, 41810378.81579123, 53270322.730166  ,\n",
       "       21283920.55554657, 25341967.82014864, 24734799.16224937,\n",
       "       22676184.18940658, 26969786.8938228 , 52615608.75380267,\n",
       "       22315918.2426988 , 39930178.359281  , 24754301.98068476,\n",
       "       15304950.84241786, 21812183.14491616, 35060462.10189146,\n",
       "       31742305.50890274, 38665113.72091757, 25171331.81872479,\n",
       "       19689165.38958668, 25030299.05718852, 30284106.32202948,\n",
       "       35175205.45659943, 23874921.10091199, 35022753.21434654,\n",
       "       48116845.64320914, 15544744.07061547, 21436362.82315632,\n",
       "       20795995.13836312, 20569485.20032117, 22658926.77228487,\n",
       "       30964768.79497057, 28735151.52400272, 28997044.77855662,\n",
       "       29872868.79883786, 33496822.39077127, 29947077.35884501,\n",
       "       21461113.19540215, 10211275.82117318, 32383166.63585554,\n",
       "       27583333.72727047, 37901930.48149672, 31753144.28872203,\n",
       "       25017839.36837639, 21010984.39837476, 28478730.70983664,\n",
       "       30127641.78469527, 35784897.94356976, 35491697.31253369,\n",
       "       20939779.96314675, 31323555.08615696, 20944541.42594897,\n",
       "       34875259.2683906 , 20338053.19202163, 43770181.10408527,\n",
       "       40588853.22170821, 35685308.08954048, 32753955.77515562,\n",
       "       34524190.477056  , 22603684.73353922, 21676317.7414431 ,\n",
       "       28143319.75037858, 29766954.02444988, 31016432.35882195,\n",
       "       28297656.89127639, 19752706.92669977, 16476984.81134651,\n",
       "       18402414.14315448, 38469211.36051731, 29415544.70342573,\n",
       "       36544851.64945228, 17363906.56354023, 26160095.98750487,\n",
       "       31272746.11297278, 41657300.17024259, 15707049.07170407,\n",
       "       46265053.507541  , 30618637.40617311, 32291425.10147921,\n",
       "       27097179.57096021, 42100059.47218592, 21776615.63362728,\n",
       "       34258781.13678737, 25407652.91439481, 40037533.04058404,\n",
       "       36188083.29850733, 16019318.82984231, 16849225.37325921,\n",
       "       47013719.91193976, 20918996.7397411 , 25121476.08443698,\n",
       "       33156010.67999098, 41357645.94006127, 22204989.89054943,\n",
       "       37145629.69338685, 17181242.64060229, 29535206.77222424,\n",
       "       42939448.36269894, 28239669.91194301, 27762838.79099393,\n",
       "       40537811.9177525 , 34840993.17640018, 32975384.4424529 ,\n",
       "       50007615.73292978, 29717160.95431263, 15199725.211931  ,\n",
       "       13718814.55908371, 27232198.32010065, 27702514.39485509,\n",
       "       17871292.5036223 , 27492929.18472314, 35681693.43734096,\n",
       "       26293833.56649935, 29331754.45893057, 32362943.19611913,\n",
       "       34936348.38429332, 28163871.41362919, 37280350.44732282,\n",
       "       40228181.06263536, 31044535.72252548])"
      ]
     },
     "execution_count": 52,
     "metadata": {},
     "output_type": "execute_result"
    }
   ],
   "source": [
    "lr_train_prediction = lr_model.predict(X_train)\n",
    "lr_test_prediction = lr_model.predict(X_test)\n",
    "#lr_test_prediction = np.expm1(lr_test_prediction)\n",
    "lr_test_prediction"
   ]
  },
  {
   "cell_type": "code",
   "execution_count": 53,
   "metadata": {},
   "outputs": [
    {
     "name": "stdout",
     "output_type": "stream",
     "text": [
      "The Root Mean Squared Error for train 19838506.196894854\n"
     ]
    }
   ],
   "source": [
    "RMSE_train = np.sqrt(mean_squared_error(y_train,lr_train_prediction))\n",
    "print(\"The Root Mean Squared Error for train {}\".format(RMSE_train))"
   ]
  },
  {
   "cell_type": "markdown",
   "metadata": {},
   "source": [
    "## Lasso"
   ]
  },
  {
   "cell_type": "code",
   "execution_count": 54,
   "metadata": {},
   "outputs": [],
   "source": [
    "# Lasso Regression\n",
    "from sklearn import linear_model"
   ]
  },
  {
   "cell_type": "code",
   "execution_count": 55,
   "metadata": {},
   "outputs": [
    {
     "data": {
      "text/plain": [
       "GridSearchCV(cv=10, estimator=Lasso(),\n",
       "             param_grid={'alpha': [2000, 5000, 10000]})"
      ]
     },
     "execution_count": 55,
     "metadata": {},
     "output_type": "execute_result"
    }
   ],
   "source": [
    "lasso_params = {'alpha':[2000, 5000, 10000]}\n",
    "lasso = linear_model.Lasso( max_iter = 1000)\n",
    "lasso_model = GridSearchCV(lasso, param_grid = lasso_params,cv = 10)\n",
    "lasso_model.fit(X_train, y_train)"
   ]
  },
  {
   "cell_type": "code",
   "execution_count": 56,
   "metadata": {},
   "outputs": [
    {
     "data": {
      "text/plain": [
       "Lasso(alpha=10000)"
      ]
     },
     "execution_count": 56,
     "metadata": {},
     "output_type": "execute_result"
    }
   ],
   "source": [
    "lasso_model.best_estimator_"
   ]
  },
  {
   "cell_type": "code",
   "execution_count": 57,
   "metadata": {},
   "outputs": [],
   "source": [
    "\n",
    "#lasso_model = lasso.fit(X_train, y_train)"
   ]
  },
  {
   "cell_type": "code",
   "execution_count": 58,
   "metadata": {},
   "outputs": [
    {
     "data": {
      "text/plain": [
       "array([23872732.98247074, 37352791.96703929, 24972778.23977315,\n",
       "       47476554.01402432, 46602667.42558971, 37462814.44245814,\n",
       "       26590114.87296055, 40946949.15443861, 26569208.05717334,\n",
       "       20948252.52564773, 19253163.95539934, 35039268.16501914,\n",
       "       29293119.81601402, 30729166.67752931, 16731086.13655935,\n",
       "       36516565.50815663, 40919737.1413448 , 18193895.23963728,\n",
       "       38065752.05379632, 29444792.01161531, 11173274.75932332,\n",
       "       38242347.35649508, 29005866.13296287, 21286265.33264785,\n",
       "       33590856.29484405, 22169718.83730224, 37170963.59897733,\n",
       "       32792784.09175883, 31611117.63606692, 25312356.20620521,\n",
       "       31825042.71888732, 36162479.28081447, 28880964.42166113,\n",
       "       37927475.28854865, 26446028.12990974, 25445311.61645322,\n",
       "       42479394.68824996, 33416562.73176294, 23491716.40500608,\n",
       "       27680773.68404362, 24033617.90194304, 22373651.85905556,\n",
       "       29047042.81895388, 23140673.75460863, 37646858.23806712,\n",
       "       21114298.99601101, 23024430.55234349, 39416081.24946576,\n",
       "       28379895.75225719, 28386044.32940779, 37093345.2910597 ,\n",
       "       40029449.99981363, 20135435.72087563, 19665622.05615808,\n",
       "       35720858.23937835, 35475247.60959296, 21769391.07129562,\n",
       "       37596923.71824408, 37731212.91827621, 32350575.27258652,\n",
       "       25320837.0081031 , 30972042.46891985, 40181471.17392138,\n",
       "       43973760.5184108 , 31773173.00337366, 28931992.39748033,\n",
       "       23117135.27940368, 20553330.82445919, 29592909.55557841,\n",
       "       51890677.73809709, 30688181.70035662, 30920365.11408673,\n",
       "       21442818.41708565, 28594706.3286016 , 25019341.94921724,\n",
       "       31800848.97898407, 33664616.25148121, 29847364.36091642,\n",
       "       29474188.11824265, 24091647.47728305, 33727822.35476048,\n",
       "       32399883.104116  , 30791114.39569886, 34078650.15981074,\n",
       "       37274471.11505544, 27853099.45337016, 23458823.1969093 ,\n",
       "       31546086.23849893, 46869396.94237356, 29793401.6962199 ,\n",
       "       35008686.16879107, 17453404.24710699, 35136673.28505062,\n",
       "       26696209.9986249 , 35600118.05825171, 33810216.29750934,\n",
       "       26227109.61813549, 25098998.2308084 , 28275349.022776  ,\n",
       "       23674541.077055  , 36779127.47770539, 28548801.6009172 ,\n",
       "       34918631.43975486, 28541892.5397849 , 48666707.62742765,\n",
       "       41498662.09535944, 39051745.51384191, 29389820.21854505,\n",
       "       26527355.53003292, 27535488.07591132, 24280832.1358023 ,\n",
       "       39000691.59008667, 21443663.34548004, 41687301.39049882,\n",
       "       34148949.32920766, 44269996.22226688, 18703670.2017293 ,\n",
       "       37927588.67579338, 28236395.5124726 , 46676554.88996048,\n",
       "       17146435.71792752, 31847327.42407481, 30634713.75998793,\n",
       "       20413108.82440222, 53091628.68621385, 25759035.01932484,\n",
       "       25953861.90487051, 23096330.84244468, 34548756.76529771,\n",
       "       34537414.49680689, 29036496.63505891, 13582296.39420712,\n",
       "       22503057.64643762, 34508353.09404139, 35125948.32448754,\n",
       "       24995783.76718384, 39621777.05527739, 30146793.88128936,\n",
       "       33582783.19969307, 27884011.13876173, 39957468.34666936,\n",
       "       32140036.92103593, 29458631.76208825, 16271665.5641832 ,\n",
       "       27096159.86044892, 35970615.23308893, 51384085.83890688,\n",
       "       31642261.46179617, 27650756.82118035, 22436145.97616102,\n",
       "       36082528.86384499, 23507292.30937954, 25500596.88075257,\n",
       "       26375466.82337928, 37459687.41615491, 21523791.80039281,\n",
       "       31453005.11053207, 36505168.34102401, 34869705.60732751,\n",
       "       28312110.88222629, 28926680.07702148, 27029466.88190691,\n",
       "       31153480.80189681, 39295903.57265276, 32242685.04957137,\n",
       "       33935142.39911732, 25568679.5737537 , 30411429.44579233,\n",
       "       36303545.92841607, 25643228.43883755, 36408095.21335202,\n",
       "       42077536.86515152, 24407643.06968456, 37270853.58344768,\n",
       "       33288646.48156521, 33614018.95882228, 27321945.12832065,\n",
       "       22811308.19551212, 19367079.19526854, 36551622.71550521,\n",
       "       42602640.98898675, 36312487.76146875, 28648359.79329259,\n",
       "       28982656.52218561, 23372006.58493547, 22831752.28451115,\n",
       "       28602098.14269358, 22166928.89885174, 42006511.43779871,\n",
       "       41999281.33494866, 24208885.70016855, 30180815.23737856,\n",
       "       28787303.70662832, 28587118.16878121, 26275969.71466472,\n",
       "       33664716.54030962, 34349255.25858675, 21288221.45905225,\n",
       "       32786174.46971254, 47542785.59955977, 35465162.36282766,\n",
       "       37621020.65328528, 20155531.0255396 , 26105861.64183807,\n",
       "       22323263.42717167, 47351472.89795429, 31570810.00220993,\n",
       "       33260220.91461921, 30827247.03260392, 25731370.73811376,\n",
       "       24639917.27108629, 29783781.99815217, 34604802.52885759,\n",
       "       24251962.86224265, 21643468.50190825, 18422181.87134207,\n",
       "       32803389.02658528, 40952567.76068684, 41246152.91912551,\n",
       "       38109588.23981549, 27011042.39950894, 19609988.91946674,\n",
       "       21310700.66482873, 21036092.17060592, 36085101.93383355,\n",
       "       30621372.92347081, 38317717.29035981, 33087342.69330474,\n",
       "       31781937.15830182, 25754632.54302746, 18363294.89012337,\n",
       "       39267847.37969626, 32073020.24756877, 44009714.54429355,\n",
       "       22917482.99443964, 24926929.45528306, 32511849.66965063,\n",
       "       26193481.95249296, 28706055.98666517, 43330408.70302156,\n",
       "       18426133.15104548, 27718971.72780306, 38037041.71352105,\n",
       "       18211611.27708794, 31903629.16273782, 26011397.03499787,\n",
       "       16088609.78199342, 30173602.38359947, 20949850.93050488,\n",
       "       29404342.75907142, 39351006.54600969, 47581805.67891005,\n",
       "       26877945.53743713, 31478582.96375231, 29094609.70086266,\n",
       "       26467976.26954504, 22329025.49371674, 36405980.59060733,\n",
       "       43085143.3873944 , 25170454.87715946, 36760967.29483303,\n",
       "       16295740.18651705, 37898567.34292868, 24962561.52786464,\n",
       "       26525540.27830487, 18547164.41229505, 25740996.87738536,\n",
       "       30443728.05647839, 38490925.2137187 , 30569154.42291822,\n",
       "       47000594.12636502, 31742584.26629506, 26577493.78899271,\n",
       "       31579789.84588274, 34078178.8881357 , 35419497.73040839,\n",
       "       18771304.96367389, 33815727.81131786, 35252999.80917336,\n",
       "       32022983.32790289, 21940923.22993764, 37304197.92887968,\n",
       "       24578239.90648027, 26148847.66403693, 22802612.70039411,\n",
       "       38198145.81424445, 26426012.43890816, 21947786.02599717,\n",
       "       35058301.34345347, 35703982.4872539 , 38657482.57254109,\n",
       "       30678701.83714535, 29047337.46807509, 34652970.89832734,\n",
       "       25652519.28682335, 22861998.75359073, 10323722.25871648,\n",
       "       26658011.07741712, 41612361.27618159, 23969396.64606661,\n",
       "       17459615.52457673, 35434286.08895691, 18493880.47432953,\n",
       "       23902558.58141729, 39416437.33161241, 28785462.34009938,\n",
       "       31387525.99261473, 16879845.58619478, 33397065.32623441,\n",
       "       32304233.14499668, 24291572.37028312, 36293930.6382685 ,\n",
       "       36324465.8645457 , 21439945.35295338, 28813235.33789566,\n",
       "       28813493.70536483, 22854736.77142596, 24004369.73445522,\n",
       "       19351778.18879336, 15884933.60795181, 33431595.66378865,\n",
       "       32204431.66190577, 26396962.19301415, 44419936.93227832,\n",
       "       27249250.00329441, 29732880.91540162, 30508690.37748459,\n",
       "       13752653.205293  , 20677943.4810789 , 31967860.90106245,\n",
       "       33098273.40191636, 33392041.04555104, 39053392.7845923 ,\n",
       "       47646010.0829218 , 37021730.51763612, 37093650.08244795,\n",
       "       37400583.55863173, 26787371.10188538, 48656645.69644007,\n",
       "       31935683.20987345, 37751970.32259405, 19879939.79803197,\n",
       "       35793315.31585947, 25206451.85343605, 16967035.96650144,\n",
       "       36264098.79856259, 38958296.24656904, 28737734.92581644,\n",
       "       35568553.73830839, 25478401.55863257, 38555459.71854836,\n",
       "       16768598.11702512, 36055855.5520971 , 24276667.64477537,\n",
       "       22116228.87248674, 25175692.94809538, 42851442.56041035,\n",
       "       35755597.36405472, 30835554.65776339, 25701979.97103308,\n",
       "       24361450.81670162, 22711421.68733192, 26619698.49872221,\n",
       "       42535994.57383266, 17559387.96084632, 34928976.67788224,\n",
       "       19603245.00184931, 29097800.83758064, 50100994.53033243,\n",
       "       34196152.31901687, 51517920.21260731, 38413780.2601469 ,\n",
       "       26529462.67535092, 19181068.13690009, 28137212.59688726,\n",
       "       17763052.02456813, 25974716.74249673, 32101034.60903063,\n",
       "       33361242.65177703, 32300461.2028204 , 39058910.83848469,\n",
       "       20921556.99441871, 41929679.08522038, 52374582.86303063,\n",
       "       21392540.48726658, 25512477.80925523, 24761887.9730762 ,\n",
       "       22696515.54751089, 26986676.66470249, 52562853.23922206,\n",
       "       21995796.71273637, 40219243.64049833, 24333926.94733469,\n",
       "       15505433.32908062, 21786671.0581593 , 35208106.75629212,\n",
       "       29772704.36664454, 38870837.26120342, 25388578.41420377,\n",
       "       19711176.07390041, 24593120.47925777, 29917127.28942596,\n",
       "       34843965.93328542, 24046012.39027787, 35057130.29626587,\n",
       "       47984935.37280019, 15838047.03418408, 21204048.15076518,\n",
       "       20973800.32398431, 21042796.29846426, 22846562.42439377,\n",
       "       30944211.05038003, 28893110.99697899, 29065509.73683882,\n",
       "       28737513.59955634, 33311869.84901289, 29605745.79486199,\n",
       "       21530540.85179569, 10455058.88635093, 32592867.58665116,\n",
       "       28129629.07764758, 37788956.98714718, 31787539.3487903 ,\n",
       "       26171072.78319068, 21621737.81808225, 27085794.24734283,\n",
       "       29892232.12296966, 35838348.04133382, 35189608.64773716,\n",
       "       21363198.33053707, 31492882.56460011, 21115867.97599058,\n",
       "       34770730.52658401, 20669267.50996966, 43102547.04505533,\n",
       "       40183400.51212923, 35733650.67183366, 32973958.75620788,\n",
       "       35024826.36249739, 22562197.07250147, 21636593.55425699,\n",
       "       28043408.41797122, 28980109.6990505 , 30948650.47184507,\n",
       "       28059470.8041675 , 20636590.68295259, 16426027.23941595,\n",
       "       18348865.59016761, 38759900.30881868, 29083953.3160313 ,\n",
       "       36482580.94300114, 17455968.54076442, 25393262.25427187,\n",
       "       31189552.68367035, 41908477.5988678 , 15864144.27855357,\n",
       "       45919035.24989006, 30515081.88436557, 32422775.23190239,\n",
       "       27585929.63290602, 42039383.15532979, 22219196.30028484,\n",
       "       34211102.61500072, 24990625.8351902 , 38235029.75127609,\n",
       "       35948470.82322226, 16251969.90790866, 17005069.66721046,\n",
       "       46530699.17863256, 21065942.52337362, 25328320.65896044,\n",
       "       33318912.15311193, 41271788.7852684 , 22069539.79200688,\n",
       "       36636931.03721996, 17105713.61347215, 29420712.76281593,\n",
       "       42630024.65898143, 29570047.28990266, 28276493.7432748 ,\n",
       "       40436009.29588006, 34598303.47837105, 32853005.57795531,\n",
       "       49662999.15362626, 29729172.99468292, 15073194.18909521,\n",
       "       13856786.98764862, 27615026.77600657, 27182701.62310518,\n",
       "       17627561.79819851, 27306784.83367849, 34497501.20864858,\n",
       "       26574761.1716955 , 29282313.39523235, 32290715.1938947 ,\n",
       "       34621078.07808125, 28080360.06823884, 36961932.37558554,\n",
       "       40269030.60352902, 30815702.60306508])"
      ]
     },
     "execution_count": 58,
     "metadata": {},
     "output_type": "execute_result"
    }
   ],
   "source": [
    "lasso_train_prediction = lasso_model.predict(X_train)\n",
    "lasso_test_prediction = lasso_model.predict(X_test)\n",
    "#lasso_test_prediction= np.expm1(lasso_test_prediction)\n",
    "lasso_test_prediction"
   ]
  },
  {
   "cell_type": "code",
   "execution_count": 59,
   "metadata": {},
   "outputs": [
    {
     "name": "stdout",
     "output_type": "stream",
     "text": [
      "The Root Mean Squared Error for train 19868287.705331016\n"
     ]
    }
   ],
   "source": [
    "RMSE_train = np.sqrt(mean_squared_error(y_train,lasso_train_prediction))\n",
    "print(\"The Root Mean Squared Error for train {}\".format(RMSE_train))"
   ]
  },
  {
   "cell_type": "markdown",
   "metadata": {},
   "source": [
    "## Ridge"
   ]
  },
  {
   "cell_type": "code",
   "execution_count": 60,
   "metadata": {},
   "outputs": [
    {
     "data": {
      "text/plain": [
       "GridSearchCV(cv=10, estimator=Ridge(max_iter=1000),\n",
       "             param_grid={'alpha': [60, 70, 80, 90, 100]})"
      ]
     },
     "execution_count": 60,
     "metadata": {},
     "output_type": "execute_result"
    }
   ],
   "source": [
    "# Ridge\n",
    "#ridge = linear_model.Ridge(alpha=1, max_iter = 500)\n",
    "ridge_params = {'alpha':[60, 70, 80, 90, 100]}\n",
    "ridge = linear_model.Ridge( max_iter = 1000)\n",
    "ridge_model = GridSearchCV(ridge, param_grid = ridge_params,cv = 10)\n",
    "ridge_model.fit(X_train, y_train)\n",
    "#ridge_model = ridge.fit(X_train, y_train)"
   ]
  },
  {
   "cell_type": "code",
   "execution_count": 61,
   "metadata": {},
   "outputs": [
    {
     "data": {
      "text/plain": [
       "Ridge(alpha=80, max_iter=1000)"
      ]
     },
     "execution_count": 61,
     "metadata": {},
     "output_type": "execute_result"
    }
   ],
   "source": [
    "ridge_model.best_estimator_"
   ]
  },
  {
   "cell_type": "code",
   "execution_count": 62,
   "metadata": {},
   "outputs": [
    {
     "data": {
      "text/plain": [
       "array([24101519.93302204, 37171107.74505824, 25508525.79749108,\n",
       "       47332072.24462649, 45218885.72027797, 36514411.76561289,\n",
       "       27563362.30025465, 40739143.77943987, 26937799.17005735,\n",
       "       20387329.5737504 , 22421716.21396833, 35309373.6629194 ,\n",
       "       30144271.17879624, 29009136.04779506, 17280088.97485067,\n",
       "       36158840.69760078, 40837557.54393925, 18372491.34969779,\n",
       "       38581836.59395199, 29189033.57302642, 10992081.91151286,\n",
       "       37672308.44886646, 28886478.92945719, 21538832.65304274,\n",
       "       33468173.04590328, 21917598.73954594, 36785997.53078528,\n",
       "       33183194.55224214, 32670204.16692342, 25699904.96109356,\n",
       "       33101945.27766814, 37465327.12035522, 29256713.37838458,\n",
       "       37953974.25248446, 27263575.85449987, 25599315.70019604,\n",
       "       42358249.38359435, 33550434.59738353, 24171444.41020915,\n",
       "       27070862.86871263, 24406516.40388704, 22146346.71153414,\n",
       "       29116833.77816037, 23526116.23556887, 37673278.29363944,\n",
       "       23574477.04220094, 22756921.20391264, 39537362.60594937,\n",
       "       28933788.16362378, 29139367.20011495, 37759380.42542195,\n",
       "       39687941.79775456, 20911160.2767658 , 21224661.42276494,\n",
       "       35699262.57080388, 35138914.41757898, 21240640.60267252,\n",
       "       35087013.92591682, 33061518.6206002 , 32204505.04527418,\n",
       "       24630442.81580779, 30907745.27725148, 38981648.69535254,\n",
       "       44307313.6678538 , 31875149.08580675, 29381589.99381553,\n",
       "       23461305.72793875, 20025688.83007238, 28397432.20851422,\n",
       "       51371631.3572363 , 31330769.82844095, 30625505.27926649,\n",
       "       21690987.15166108, 28479114.58782455, 24194345.72490596,\n",
       "       31225447.88514506, 34289274.42089212, 30053719.1020602 ,\n",
       "       29789232.20617961, 23921491.59915828, 34156790.44197012,\n",
       "       32026974.01817865, 30709468.64570611, 35658277.44515896,\n",
       "       37174888.34545697, 28558969.2159404 , 23363286.37522428,\n",
       "       32399532.87303029, 44339342.90930218, 29414392.43809164,\n",
       "       33831140.63016069, 17853061.35007732, 34110074.57854812,\n",
       "       21067884.12341116, 36704236.95023763, 34390978.74990053,\n",
       "       27069848.78345455, 26335609.48401047, 29363849.08697784,\n",
       "       23900355.20791094, 36259903.89008754, 29571202.85971911,\n",
       "       35969970.22485399, 23187221.90060497, 46931513.14966431,\n",
       "       39868503.74222365, 38433668.89278042, 30220229.19151713,\n",
       "       28223418.45049236, 26884159.82662308, 25301214.51104625,\n",
       "       39089362.28847764, 24878685.46141498, 41832102.34317221,\n",
       "       35107480.62795065, 45086341.36798511, 17997418.15788599,\n",
       "       38205268.43010314, 28226760.94512404, 46166867.78084724,\n",
       "       20123715.94115389, 31376310.86058239, 31122978.17524838,\n",
       "       21293395.99957642, 50860105.32634504, 26075117.69372626,\n",
       "       26742984.31736747, 22959164.19748798, 34463707.86595736,\n",
       "       34520830.73830776, 29162392.66239933, 18148268.88293007,\n",
       "       27100323.27441708, 34636460.96045998, 35494571.85434687,\n",
       "       24689400.07070252, 39436882.14718108, 29341323.16011451,\n",
       "       35121406.2304806 , 28241189.5567251 , 39714610.2668297 ,\n",
       "       31563882.18722012, 30559113.01498252, 14742223.08032099,\n",
       "       26066887.90094008, 31405642.29696215, 48706266.68540858,\n",
       "       31264984.58368793, 26991143.450806  , 23910698.12783249,\n",
       "       36523284.70494413, 22394510.45341856, 25185097.37733535,\n",
       "       26905016.36995512, 37824525.96264842, 20765236.47318703,\n",
       "       31931744.46167104, 37006379.16187979, 38425284.93106847,\n",
       "       28914631.89269324, 29458853.39278783, 27125990.40680814,\n",
       "       31128527.65755526, 38932800.90087797, 32620751.5823659 ,\n",
       "       35816976.51834065, 24207435.87952277, 30668931.65347102,\n",
       "       36997587.46871801, 26216092.80141949, 36796386.48684043,\n",
       "       40464846.17631362, 25815509.84098649, 34960920.55935304,\n",
       "       33225627.3715836 , 34757713.16957709, 27356183.6691494 ,\n",
       "       22958575.02637221, 19579475.84705473, 37077517.67163748,\n",
       "       41150648.12083834, 34774880.18783882, 28957672.64007812,\n",
       "       28862994.41810952, 23136639.55890324, 22651163.6300672 ,\n",
       "       27669602.29537364, 22947404.64763034, 39891263.23024744,\n",
       "       41978984.59873441, 23819897.99867768, 29996399.99261126,\n",
       "       29182831.78083578, 30551992.0126007 , 25163151.38641796,\n",
       "       34890134.23946811, 32709227.40402145, 22112106.91624409,\n",
       "       32100510.56653072, 47362522.68045929, 35873889.00395265,\n",
       "       37293221.95383379, 18923513.10590072, 26338106.23170282,\n",
       "       21809088.56575219, 45841444.88540784, 32502888.50462767,\n",
       "       33191461.2302383 , 30926412.27146417, 25399392.55924296,\n",
       "       23613067.69714869, 29443317.34309809, 35041895.04644153,\n",
       "       24563594.25813254, 22243775.06295814, 18430772.0866417 ,\n",
       "       33649699.44750223, 41329222.91150928, 41592342.99984844,\n",
       "       39317797.01950604, 26210050.53404605, 20133416.88712736,\n",
       "       20985770.68279481, 21549154.95969997, 39446086.52612349,\n",
       "       33418288.88608849, 37892606.8555264 , 28261207.52804718,\n",
       "       31522204.28539812, 25608767.17042946, 18751924.00557376,\n",
       "       38937978.85176961, 32794609.52335564, 42236116.26134686,\n",
       "       22966706.52399721, 25750997.46402305, 32603298.35947144,\n",
       "       25737914.45269112, 26068710.84973465, 43152227.54770193,\n",
       "       23545719.9768605 , 29290446.64925408, 38036681.32871215,\n",
       "       17507478.60400903, 31928651.56514377, 26570299.51297663,\n",
       "       16295404.20956985, 30322449.31745638, 20619379.74788083,\n",
       "       31164206.62368718, 38334688.01005322, 44848333.40148224,\n",
       "       27659114.88676072, 32716387.82023928, 28249407.42327008,\n",
       "       26209914.92816677, 21614429.90551029, 36518423.66243027,\n",
       "       43556816.41071729, 26526813.67619458, 36298724.17799622,\n",
       "       16808377.29838839, 37646856.38913772, 24107345.7863786 ,\n",
       "       25939149.27655026, 18644173.96002084, 26030683.89888225,\n",
       "       29962151.92929294, 36321827.62907895, 31114396.61057891,\n",
       "       44879549.44179617, 32035655.61408709, 27550441.91377403,\n",
       "       29750327.29357345, 33922623.20890242, 35687387.76479563,\n",
       "       19660078.68493744, 34062787.23351008, 30016377.27166727,\n",
       "       32123606.04737638, 21610849.0618446 , 35161007.54599158,\n",
       "       25227217.43153801, 27347162.55039257, 22473787.95123989,\n",
       "       37700903.43100005, 26029541.01061558, 19953861.91733054,\n",
       "       35851856.23360944, 31081917.08360652, 38656960.35865729,\n",
       "       31467162.22847864, 28634889.93235781, 35423583.86100078,\n",
       "       26477167.53955212, 23878099.91529479,  9954155.38955993,\n",
       "       27650672.26433048, 41316999.20856795, 25164033.41772378,\n",
       "       16788110.5232849 , 35529754.46599995, 19535956.59174931,\n",
       "       25023387.47847728, 37146556.04439008, 26445778.83114156,\n",
       "       32177740.8034761 , 17585017.63903276, 34630843.05761883,\n",
       "       31233273.57754773, 24989544.22719005, 36894001.63066953,\n",
       "       36661480.64545372, 21825425.31046252, 29094749.71353864,\n",
       "       28096953.07231131, 22244159.89658584, 24772374.77537108,\n",
       "       19768155.99896735, 16285118.83030755, 33095536.20639155,\n",
       "       31609476.47635734, 26696731.11471685, 41809232.30892083,\n",
       "       26922188.82466438, 31234321.43113654, 30450704.33075542,\n",
       "       14156324.0927336 , 20338232.46208988, 31660611.33144053,\n",
       "       32194291.28015511, 33568540.40066747, 39827243.79833873,\n",
       "       47518629.17537047, 36475188.84797634, 34554344.52331443,\n",
       "       36694824.02014527, 27093488.05701144, 46524983.04015139,\n",
       "       32240738.95930427, 38358160.59814145, 20824644.57570398,\n",
       "       36342677.5019919 , 25502636.47110381, 17095542.06764684,\n",
       "       36071810.31627414, 38442109.69165152, 29528034.43259165,\n",
       "       38799535.679847  , 26653975.64394233, 33890335.11886056,\n",
       "       17120309.35015449, 36346788.84534295, 23679779.80022235,\n",
       "       21732039.93012853, 26006248.49619341, 42831015.64602888,\n",
       "       35340714.64592929, 30220797.96260399, 25424199.14555404,\n",
       "       25015297.73681503, 27319798.54665682, 26692097.83207827,\n",
       "       41941486.55755803, 17005092.38393216, 33246363.45445215,\n",
       "       19219310.50223992, 28897134.73698486, 45061846.43347071,\n",
       "       34384215.10008891, 49351636.56247301, 39376563.48880361,\n",
       "       27585037.93232131, 19085206.17625642, 28003466.69750737,\n",
       "       18055402.2958556 , 26796936.22253809, 32051190.01839894,\n",
       "       32803843.60701869, 31116439.07236849, 38059970.06634709,\n",
       "       21478522.92761762, 36808782.22724964, 48963730.48503907,\n",
       "       21613540.05410956, 25085602.07183688, 25374627.65508606,\n",
       "       22676340.6662077 , 27601353.2755111 , 52514688.37916732,\n",
       "       21531093.38707359, 40698571.32279812, 23906036.49725164,\n",
       "       15834119.30268382, 21112995.73610637, 35322376.76714326,\n",
       "       29238688.01988717, 38870779.10344446, 26027630.12021233,\n",
       "       19796819.69855488, 24222430.95810768, 29646946.15610803,\n",
       "       34433033.57593109, 24549217.37523112, 35325134.45661518,\n",
       "       45113172.46697666, 16549645.44257321, 20883035.88628384,\n",
       "       21371184.32955169, 24207543.2012927 , 23428298.92639834,\n",
       "       30959564.57998829, 29475973.56965181, 28432932.98153727,\n",
       "       28998744.75797272, 33448151.64102079, 29076357.90862925,\n",
       "       21875243.53602738, 11024887.01056759, 33168952.93991378,\n",
       "       29087970.20426832, 37622639.29581611, 33032137.26638082,\n",
       "       28474428.36890373, 23102112.10064382, 26243042.79304319,\n",
       "       28924633.8173788 , 36668663.82454984, 34996054.64661671,\n",
       "       24464561.85937728, 32344632.63031581, 21325475.55878868,\n",
       "       34755770.14701156, 21305534.61322046, 41225066.42364156,\n",
       "       40154848.92738707, 35804788.02610365, 33177528.86203334,\n",
       "       36363653.55566734, 22820783.15458768, 21804679.8741391 ,\n",
       "       28421800.62970891, 28547777.76961747, 30461506.72347865,\n",
       "       28178699.23279906, 21880133.28871775, 16907852.27838866,\n",
       "       18044583.09858349, 39173262.46822807, 28438276.60865244,\n",
       "       36121650.08184816, 18055743.78401625, 24848502.54775379,\n",
       "       30981819.22406144, 42261222.39576414, 16485129.78104166,\n",
       "       44763218.26093401, 30867849.29538777, 32695530.85866526,\n",
       "       27810783.23348716, 42398770.20438981, 22392315.07587789,\n",
       "       34502581.33456884, 24620370.88564153, 36450736.46437213,\n",
       "       36150881.8846868 , 16276081.24714774, 17404332.58392016,\n",
       "       43533076.4840363 , 21424754.16946412, 25278641.56027495,\n",
       "       33868833.15344234, 41262569.61270575, 22814741.55706288,\n",
       "       36100003.07015428, 16839051.22070051, 29373085.5308862 ,\n",
       "       39344115.99669294, 35723336.69069743, 29425433.00614882,\n",
       "       39862019.52239895, 35042835.92530072, 34052932.34399556,\n",
       "       50081335.05624662, 27881566.40890985, 14801309.63473121,\n",
       "       16686038.24668306, 28010217.13469178, 27121469.11743158,\n",
       "       18023196.26984691, 27142873.92363257, 33059624.63337092,\n",
       "       26754630.51361978, 29196642.72349208, 33473066.18100118,\n",
       "       34443615.74866137, 27960378.98607406, 37132905.90933156,\n",
       "       40314262.86833768, 30496153.58592389])"
      ]
     },
     "execution_count": 62,
     "metadata": {},
     "output_type": "execute_result"
    }
   ],
   "source": [
    "ridge_train_prediction = ridge_model.predict(X_train)\n",
    "ridge_test_prediction = ridge_model.predict(X_test)\n",
    "#ridge_test_prediction = np.expm1(ridge_test_prediction)\n",
    "ridge_test_prediction"
   ]
  },
  {
   "cell_type": "code",
   "execution_count": 63,
   "metadata": {},
   "outputs": [
    {
     "name": "stdout",
     "output_type": "stream",
     "text": [
      "The Root Mean Squared Error for train 19929421.502851464\n"
     ]
    }
   ],
   "source": [
    "RMSE_train = np.sqrt(mean_squared_error(y_train,ridge_train_prediction))\n",
    "print(\"The Root Mean Squared Error for train {}\".format(RMSE_train))"
   ]
  },
  {
   "cell_type": "markdown",
   "metadata": {},
   "source": [
    "## Elastic Net"
   ]
  },
  {
   "cell_type": "code",
   "execution_count": 64,
   "metadata": {},
   "outputs": [
    {
     "data": {
      "text/plain": [
       "GridSearchCV(cv=10, estimator=ElasticNet(),\n",
       "             param_grid={'alpha': [15000], 'l1_ratio': [0.8, 0.9, 1, 1.2, 1.5]})"
      ]
     },
     "execution_count": 64,
     "metadata": {},
     "output_type": "execute_result"
    }
   ],
   "source": [
    "eln_params = {'alpha':[ 15000 ],\n",
    "             'l1_ratio': [ 0.8, 0.9, 1, 1.2, 1.5]}\n",
    "eln = linear_model.ElasticNet( max_iter = 1000)\n",
    "eln_model = GridSearchCV(eln, param_grid = eln_params,cv = 10)\n",
    "eln_model.fit(X_train, y_train)\n",
    "\n",
    "#eln = linear_model.ElasticNet(alpha=1.01, l1_ratio = 0.001, max_iter = 500)\n",
    "#model = eln.fit(X_train, y_train)"
   ]
  },
  {
   "cell_type": "code",
   "execution_count": 65,
   "metadata": {},
   "outputs": [
    {
     "data": {
      "text/plain": [
       "ElasticNet(alpha=15000, l1_ratio=1)"
      ]
     },
     "execution_count": 65,
     "metadata": {},
     "output_type": "execute_result"
    }
   ],
   "source": [
    "eln_model.best_estimator_"
   ]
  },
  {
   "cell_type": "code",
   "execution_count": 66,
   "metadata": {},
   "outputs": [
    {
     "data": {
      "text/plain": [
       "array([23981932.58031731, 37246531.46937834, 25143870.22119739,\n",
       "       47403655.83239876, 46771350.32147913, 37337749.41116466,\n",
       "       26738422.68590161, 40733059.91419043, 26588150.68093545,\n",
       "       20759067.2233816 , 19455641.90055357, 35038734.60950825,\n",
       "       29567205.02787607, 29808427.7649486 , 16815140.85417276,\n",
       "       36422131.15392533, 40906883.50553076, 18183892.92628105,\n",
       "       38238839.07733886, 29309780.41528378, 11169831.74606242,\n",
       "       38213857.86073405, 28933681.72147831, 21164157.75954743,\n",
       "       33526584.67216753, 22217826.36165026, 36978613.92047884,\n",
       "       32822116.08614624, 31739618.9828272 , 25523264.35209643,\n",
       "       31943596.91403435, 36379235.42205068, 28749663.26410842,\n",
       "       37881771.3112431 , 26613303.10171737, 25406882.73391221,\n",
       "       42356035.13897133, 33366220.56296452, 23620435.27565973,\n",
       "       27585815.79164543, 24102856.40054616, 22271294.63909614,\n",
       "       28963888.59376311, 23136400.71935828, 37616980.38964932,\n",
       "       21519919.09859223, 22986604.59108306, 39354083.65112028,\n",
       "       28535275.06306208, 28426460.16908537, 37242054.68466988,\n",
       "       39867734.63151944, 20192659.47510825, 19954826.3538186 ,\n",
       "       35711992.73117058, 35379269.62903219, 21606094.92373271,\n",
       "       37489021.9779976 , 37429955.21044064, 32305829.85933147,\n",
       "       25114505.70949106, 30941911.9369374 , 39948136.45800243,\n",
       "       44083071.61516519, 31765477.11615259, 28959407.60073708,\n",
       "       23343119.88710214, 20384900.65866077, 29394398.83003975,\n",
       "       51698743.70588368, 30726147.97126385, 30844596.66035543,\n",
       "       21457672.59408299, 28567977.16619715, 24975942.16937257,\n",
       "       31749515.87264847, 33672275.61490604, 29859810.35193929,\n",
       "       29460228.40637218, 24020701.09173484, 33595039.07774444,\n",
       "       32340821.61917998, 30676967.5561114 , 34212985.15273982,\n",
       "       37267940.31099916, 28080871.56929011, 23472583.866808  ,\n",
       "       31648347.14965886, 46746863.44918577, 29830479.53189022,\n",
       "       35061356.49657911, 17507895.50068873, 34978403.38618027,\n",
       "       26255756.35941964, 35801680.34651795, 33828358.65534872,\n",
       "       26399404.8510112 , 25298709.38898822, 28328622.49547755,\n",
       "       23729001.3113618 , 36687854.84855376, 28617566.62413006,\n",
       "       35135010.28070903, 28129942.88418572, 48764017.06362991,\n",
       "       41332410.63325678, 38923650.71237417, 29458368.98671241,\n",
       "       26894662.53693732, 27518343.52692054, 24474942.82343208,\n",
       "       38891294.78381221, 21691635.76246167, 41628604.15267341,\n",
       "       34179942.373807  , 44489238.37520024, 18525795.86815447,\n",
       "       37914470.94422621, 28324770.49892738, 46542670.29130155,\n",
       "       17380778.02015834, 31807975.01478108, 30789754.69403811,\n",
       "       20547659.94665922, 52952427.72879787, 25768388.60785895,\n",
       "       25985334.06249646, 22921127.74384004, 34463240.72269095,\n",
       "       34487553.38963118, 29214654.05670999, 15208251.94953941,\n",
       "       23853411.79373089, 34337352.34538484, 35098032.91028528,\n",
       "       24957465.8268563 , 39486334.0358724 , 30046313.11324375,\n",
       "       33907535.08711307, 27876553.45083879, 39929450.4750756 ,\n",
       "       32093398.03598527, 29538864.8186227 , 15994595.67538807,\n",
       "       26923170.38123534, 35673010.2432123 , 51213992.79436933,\n",
       "       31569966.36056347, 27553483.09216246, 22616530.13566083,\n",
       "       36238260.84341227, 23292696.34361443, 25572496.92914768,\n",
       "       26452802.2099594 , 37413103.71816015, 21297639.11945202,\n",
       "       31514473.625179  , 36556945.06252912, 36485953.70251943,\n",
       "       28333588.07062171, 29003176.89226865, 27110416.11005336,\n",
       "       31194296.33859549, 39255004.95332524, 32376797.4577327 ,\n",
       "       34203777.85059723, 25321055.29981174, 30372698.18334119,\n",
       "       36431873.56094933, 25653636.08461586, 36434298.44119094,\n",
       "       41859193.9846824 , 24665354.59379789, 37171761.44682243,\n",
       "       33097805.67413854, 33849835.58925763, 27364855.20607365,\n",
       "       22930570.5226068 , 18810510.15456632, 36596282.82474642,\n",
       "       42634667.55078217, 36384614.82020117, 28570449.10027145,\n",
       "       28963976.98671523, 23332306.04439272, 22717280.39860311,\n",
       "       28505802.20127379, 22427725.54115806, 42002861.24214424,\n",
       "       41890937.90629871, 24039618.82128619, 30129590.16642356,\n",
       "       28868754.18103022, 28946479.22948259, 26085420.98522004,\n",
       "       34034035.19843246, 34318549.4712224 , 21344555.88336993,\n",
       "       32656674.41660367, 47370398.08769859, 35630292.16137251,\n",
       "       37543496.13210198, 19927891.24462261, 26262451.15369024,\n",
       "       22198036.70294294, 47305528.38899165, 31798645.5602757 ,\n",
       "       33149419.70388645, 30824107.05676107, 25577706.15400498,\n",
       "       24440670.09694582, 29778229.68341457, 34617996.13781095,\n",
       "       24249012.28544238, 21669467.67442561, 18387796.48532995,\n",
       "       32816907.86810047, 40847653.09522857, 41240250.41994682,\n",
       "       38241529.21079132, 26924835.23897405, 19650919.36054126,\n",
       "       21336913.67618332, 21111753.81125699, 36698274.41327596,\n",
       "       31068759.13793809, 38241829.94111666, 32252196.26864881,\n",
       "       31702808.258135  , 25693871.953098  , 17690615.26985681,\n",
       "       39130359.348885  , 32168143.63568114, 43312786.80229425,\n",
       "       22983887.31968969, 24985503.72917599, 32451497.37070647,\n",
       "       25313538.48139693, 28441812.04281947, 43126711.4488654 ,\n",
       "       19032167.19896622, 28009246.79868579, 37938537.74737819,\n",
       "       18181754.83845851, 31789912.28524953, 26189356.26353595,\n",
       "       16127415.5106711 , 30207266.13697301, 20833745.35252503,\n",
       "       29942300.18432433, 39445301.40081142, 47370687.82499135,\n",
       "       26849985.6476362 , 31713402.92529921, 28165240.07610585,\n",
       "       26358375.24231989, 22381699.30088429, 36363227.6975387 ,\n",
       "       43107457.90530202, 25373419.11356936, 36696385.96426183,\n",
       "       16289373.70787715, 37842384.56644605, 24989200.76965011,\n",
       "       26524316.26873179, 18633385.564416  , 25731527.24560427,\n",
       "       30449447.61522591, 38369948.99843766, 30762941.61339181,\n",
       "       46902052.20238818, 31646238.80780851, 26783011.55770982,\n",
       "       31592281.48373644, 33986891.48296157, 35387181.00483489,\n",
       "       18860598.94734489, 33825052.76252013, 34932083.24844743,\n",
       "       31943194.62687324, 21998163.64832079, 37225603.94291843,\n",
       "       24649993.81928198, 26292496.49682789, 22676359.75388865,\n",
       "       38078809.81382583, 26428709.04588505, 21165633.15262513,\n",
       "       35130214.99941564, 35506174.78758967, 38591058.92197213,\n",
       "       30702526.05880221, 28880698.38869194, 34676685.32075961,\n",
       "       25803481.4814417 , 22995579.26235629, 10184629.69189813,\n",
       "       26753402.04797824, 41485459.98740125, 24145443.31423228,\n",
       "       17272037.78667938, 35412625.33441113, 18643566.34712637,\n",
       "       24018678.43904141, 39291334.12928508, 27765230.46646312,\n",
       "       31541082.2987763 , 16896641.79450584, 33441623.50837791,\n",
       "       32252636.57658244, 24333793.49614109, 36324309.8104189 ,\n",
       "       36442017.3006338 , 21465131.11784871, 28853472.76790054,\n",
       "       28612932.44041786, 23038731.06846154, 24094429.45446343,\n",
       "       19520966.45335566, 15964432.59560375, 33411749.52107115,\n",
       "       32094871.18584589, 26405802.18449688, 44247147.62303679,\n",
       "       27151250.10817804, 29956269.08544112, 30510323.13849965,\n",
       "       13927916.73142888, 20582658.47472633, 31866028.7579813 ,\n",
       "       32987858.2658076 , 33447259.87198551, 39288701.44341701,\n",
       "       47605325.99710652, 37028656.03197411, 36960798.33078581,\n",
       "       37301882.47552308, 26801609.56829769, 48538512.44381927,\n",
       "       31957995.42106702, 37851481.75088365, 19955419.07701109,\n",
       "       35823296.28376997, 25210725.56426762, 17125907.20874922,\n",
       "       36212896.87287956, 38827428.45921423, 28816754.94120423,\n",
       "       35701045.57003935, 25566644.36438342, 38195562.67695959,\n",
       "       16931164.83672387, 36039460.75572829, 24234020.05976853,\n",
       "       22149085.16213961, 25291288.84172529, 42703561.10754801,\n",
       "       35727545.40801758, 30788377.27291387, 25551671.67819058,\n",
       "       24638346.44726143, 24530042.37922541, 26613952.7987837 ,\n",
       "       42437484.26322962, 17527753.31888801, 34965866.05614614,\n",
       "       19517519.8546329 , 28959787.37631446, 49734832.19323701,\n",
       "       34134402.07679184, 51406971.79640625, 38432799.54993044,\n",
       "       26668857.66499732, 19277465.64315963, 28098741.2148233 ,\n",
       "       17835098.74735114, 25992436.66704053, 32136091.10518161,\n",
       "       33226296.54127247, 32169481.50186398, 38811770.08936031,\n",
       "       21114270.78444019, 41536362.35603447, 51976975.25801453,\n",
       "       21597698.68125514, 25451118.019459  , 24761950.07490446,\n",
       "       22684009.50535247, 27025774.44449145, 52494629.84734492,\n",
       "       21875423.31145916, 40303024.75202227, 24239639.49876698,\n",
       "       15578389.7652352 , 21719171.88682045, 35202029.697078  ,\n",
       "       29650493.85127149, 38783124.94466363, 25452218.15048816,\n",
       "       19697355.06837381, 24404667.57937026, 29790116.84693665,\n",
       "       34759812.65784585, 24264209.83083593, 35061450.21594328,\n",
       "       47748458.43680018, 16026691.16923952, 21070777.78080744,\n",
       "       21036339.65063522, 21250544.87014526, 23051017.20706642,\n",
       "       30929499.86005219, 28903216.33226016, 29127623.47141611,\n",
       "       28598836.47013526, 33275695.10607644, 29460772.88130127,\n",
       "       21554583.20616971, 10539976.17985659, 32669343.10305621,\n",
       "       28396242.62011247, 37725862.72644214, 31808564.33993034,\n",
       "       26621024.32119444, 21904023.04974627, 26372211.62624892,\n",
       "       29748897.24738812, 35893165.72980706, 35096220.73751257,\n",
       "       21542905.71486413, 31524466.43472118, 21135821.48115398,\n",
       "       34712420.44876723, 20925698.59635011, 42735934.93747446,\n",
       "       40030174.09119353, 35773773.62382771, 32941303.95330016,\n",
       "       35169595.57563798, 22727312.32649943, 21556801.50462407,\n",
       "       28020258.4159163 , 28816718.94808077, 30938961.69533147,\n",
       "       27977112.49509875, 20997038.37821316, 16417384.82027736,\n",
       "       18395520.08797477, 38833189.9228248 , 28915540.45253383,\n",
       "       36381897.76799123, 17525303.08859171, 25262138.7545162 ,\n",
       "       31304485.59497238, 41970203.82870059, 15968465.88571743,\n",
       "       45762131.78818388, 30435765.44439276, 32428451.7457981 ,\n",
       "       27726256.47767847, 41960700.36512011, 22428520.88074579,\n",
       "       34266410.31052653, 24841323.82189309, 37304588.43578286,\n",
       "       35840504.72407486, 16427296.83653764, 17115266.85781955,\n",
       "       46352188.61487317, 21098223.44878713, 25410048.59680041,\n",
       "       33332797.66368054, 41231857.04631379, 22128853.74018875,\n",
       "       36464533.19209987, 16930455.7040329 , 29481378.26098926,\n",
       "       42386881.64246324, 30260471.73548864, 28507717.05967067,\n",
       "       40325291.80794512, 34610959.0287316 , 32933851.79951588,\n",
       "       49497787.33706275, 29866159.75837978, 15015456.05052537,\n",
       "       14036457.0533936 , 27736816.03785175, 27076821.93470744,\n",
       "       17574525.37184954, 27218914.1351976 , 33885205.29576816,\n",
       "       26603206.17875054, 29127801.00966888, 32412586.48077511,\n",
       "       34522965.27282993, 28091257.00023577, 36956122.79424569,\n",
       "       40259585.87259951, 30711083.77526842])"
      ]
     },
     "execution_count": 66,
     "metadata": {},
     "output_type": "execute_result"
    }
   ],
   "source": [
    "eln_train_prediction = eln_model.predict(X_train)\n",
    "eln_test_prediction = eln_model.predict(X_test)\n",
    "eln_test_prediction"
   ]
  },
  {
   "cell_type": "code",
   "execution_count": 67,
   "metadata": {},
   "outputs": [
    {
     "name": "stdout",
     "output_type": "stream",
     "text": [
      "The Root Mean Squared Error for train 19878458.561926328\n"
     ]
    }
   ],
   "source": [
    "RMSE_train = np.sqrt(mean_squared_error(y_train,eln_train_prediction))\n",
    "print(\"The Root Mean Squared Error for train {}\".format(RMSE_train))"
   ]
  },
  {
   "cell_type": "code",
   "execution_count": 68,
   "metadata": {},
   "outputs": [],
   "source": [
    "# Try scaling"
   ]
  },
  {
   "cell_type": "code",
   "execution_count": 69,
   "metadata": {},
   "outputs": [],
   "source": [
    "from sklearn.preprocessing import StandardScaler # For ANN\n",
    "ss=StandardScaler()\n",
    "X_train_scaled=ss.fit_transform(X_train)\n",
    "X_test_scaled=ss.transform(X_test)"
   ]
  },
  {
   "cell_type": "markdown",
   "metadata": {},
   "source": [
    "## XGBoost Regressor"
   ]
  },
  {
   "cell_type": "code",
   "execution_count": 139,
   "metadata": {},
   "outputs": [],
   "source": [
    "import xgboost\n",
    "from xgboost import plot_importance"
   ]
  },
  {
   "cell_type": "code",
   "execution_count": 156,
   "metadata": {},
   "outputs": [],
   "source": [
    "xgb = xgboost.XGBRegressor()#colsample_bytree= 0.6, #0.4, can be increased\n",
    "                           #gamma=0,\n",
    "                           #learning_rate=0.07,\n",
    "                           #max_depth= 3,\n",
    "                           #min_child_weight=1.5,\n",
    "                           #n_estimators=10000,\n",
    "                           #reg_alpha=0.75,\n",
    "                           #reg_lambda=0.45,\n",
    "                           #subsample=0.6,\n",
    "                           #seed=42) \n",
    "#xgb_params = {'colsample_bytree': [ 0.05, 0.1, 0.2, 0.5, 0.8, 1],\n",
    "#              'learning_rate': [0.03, 0.05, 0.07, 0.1, 0.3, 0.5 ],\n",
    "#              'max_depth': [1, 2, 5, 7, 10, 15],\n",
    "#              'min_child_weight': [0.2, 0.5, 0.75, 1, 1.5, 2],\n",
    "#              'n_estimators': [200, 500, 700, 1000, 2500, 5000],\n",
    "#              'reg_alpha': [0.05, 0.2, 0.5, 0.75, 1, 1.5],\n",
    "#              'reg_lambda': [0.05, 0.2, 0.5, 0.75, 1, 1.5],\n",
    "#              'subsample': [0.05, 0.2, 0.5, 0.75, 1, 1.5]\n",
    "#             }\n",
    "#xgb_model = GridSearchCV(xgb, param_grid = xgb_params,cv = 10)\n",
    "#xgb_model.fit(X_train, y_train)"
   ]
  },
  {
   "cell_type": "code",
   "execution_count": 157,
   "metadata": {},
   "outputs": [],
   "source": [
    "#xgb_model.best_params_"
   ]
  },
  {
   "cell_type": "code",
   "execution_count": 158,
   "metadata": {},
   "outputs": [
    {
     "name": "stdout",
     "output_type": "stream",
     "text": [
      "[15:33:38] WARNING: src/objective/regression_obj.cu:152: reg:linear is now deprecated in favor of reg:squarederror.\n"
     ]
    }
   ],
   "source": [
    "xgb_model = xgb.fit(X_train, y_train)"
   ]
  },
  {
   "cell_type": "code",
   "execution_count": 159,
   "metadata": {},
   "outputs": [],
   "source": [
    "xgb_train_prediction = xgb_model.predict(X_train)\n",
    "xgb_test_prediction = xgb_model.predict(X_test)\n",
    "#xgb_test_prediction"
   ]
  },
  {
   "cell_type": "code",
   "execution_count": 160,
   "metadata": {},
   "outputs": [
    {
     "name": "stdout",
     "output_type": "stream",
     "text": [
      "The Root Mean Squared Error for train 16176379.63638769\n"
     ]
    }
   ],
   "source": [
    "RMSE_train = np.sqrt(mean_squared_error(y_train,xgb_train_prediction))\n",
    "print(\"The Root Mean Squared Error for train {}\".format(RMSE_train)) #1443302.3394796958 1158730.2968138428"
   ]
  },
  {
   "cell_type": "code",
   "execution_count": 161,
   "metadata": {},
   "outputs": [
    {
     "data": {
      "text/plain": [
       "<matplotlib.axes._subplots.AxesSubplot at 0x1a401951f88>"
      ]
     },
     "execution_count": 161,
     "metadata": {},
     "output_type": "execute_result"
    },
    {
     "data": {
      "image/png": "[encoded data removed]",
      "text/plain": [
       "<Figure size 576x1152 with 1 Axes>"
      ]
     },
     "metadata": {
      "needs_background": "light"
     },
     "output_type": "display_data"
    }
   ],
   "source": [
    "#Check feature importance\n",
    "feature_rank = pd.DataFrame({'Feature' : X_train.columns, 'Importance' : xgb_model.feature_importances_ })\n",
    "feature_rank = feature_rank.sort_values('Importance', ascending=False )\n",
    "plt.figure(figsize=(8,16))\n",
    "sns.barplot(y='Feature', x='Importance', data=feature_rank)"
   ]
  },
  {
   "cell_type": "code",
   "execution_count": 162,
   "metadata": {},
   "outputs": [],
   "source": [
    "important_features = list(feature_rank.Feature[feature_rank.Importance != 0])\n",
    "#important_features"
   ]
  },
  {
   "cell_type": "code",
   "execution_count": 163,
   "metadata": {},
   "outputs": [
    {
     "name": "stdout",
     "output_type": "stream",
     "text": [
      "[15:34:02] WARNING: src/objective/regression_obj.cu:152: reg:linear is now deprecated in favor of reg:squarederror.\n"
     ]
    }
   ],
   "source": [
    "xgb_model = xgb.fit(X_train[important_features], y_train)"
   ]
  },
  {
   "cell_type": "code",
   "execution_count": 164,
   "metadata": {},
   "outputs": [],
   "source": [
    "xgb_train_prediction = xgb_model.predict(X_train[important_features])\n",
    "xgb_test_prediction = xgb_model.predict(X_test[important_features])"
   ]
  },
  {
   "cell_type": "code",
   "execution_count": 165,
   "metadata": {},
   "outputs": [
    {
     "name": "stdout",
     "output_type": "stream",
     "text": [
      "The Root Mean Squared Error for train 16176379.63638769\n"
     ]
    }
   ],
   "source": [
    "RMSE_train = np.sqrt(mean_squared_error(y_train,xgb_train_prediction))\n",
    "print(\"The Root Mean Squared Error for train {}\".format(RMSE_train))"
   ]
  },
  {
   "cell_type": "code",
   "execution_count": null,
   "metadata": {},
   "outputs": [],
   "source": []
  },
  {
   "cell_type": "markdown",
   "metadata": {},
   "source": [
    "## Solution File"
   ]
  },
  {
   "cell_type": "code",
   "execution_count": 166,
   "metadata": {},
   "outputs": [
    {
     "data": {
      "text/html": [
       "<div>\n",
       "<style scoped>\n",
       "    .dataframe tbody tr th:only-of-type {\n",
       "        vertical-align: middle;\n",
       "    }\n",
       "\n",
       "    .dataframe tbody tr th {\n",
       "        vertical-align: top;\n",
       "    }\n",
       "\n",
       "    .dataframe thead th {\n",
       "        text-align: right;\n",
       "    }\n",
       "</style>\n",
       "<table border=\"1\" class=\"dataframe\">\n",
       "  <thead>\n",
       "    <tr style=\"text-align: right;\">\n",
       "      <th></th>\n",
       "      <th>Registration Number</th>\n",
       "    </tr>\n",
       "  </thead>\n",
       "  <tbody>\n",
       "    <tr>\n",
       "      <th>0</th>\n",
       "      <td>20001</td>\n",
       "    </tr>\n",
       "    <tr>\n",
       "      <th>1</th>\n",
       "      <td>20002</td>\n",
       "    </tr>\n",
       "    <tr>\n",
       "      <th>2</th>\n",
       "      <td>20003</td>\n",
       "    </tr>\n",
       "    <tr>\n",
       "      <th>3</th>\n",
       "      <td>20004</td>\n",
       "    </tr>\n",
       "    <tr>\n",
       "      <th>4</th>\n",
       "      <td>20005</td>\n",
       "    </tr>\n",
       "    <tr>\n",
       "      <th>...</th>\n",
       "      <td>...</td>\n",
       "    </tr>\n",
       "    <tr>\n",
       "      <th>495</th>\n",
       "      <td>20496</td>\n",
       "    </tr>\n",
       "    <tr>\n",
       "      <th>496</th>\n",
       "      <td>20497</td>\n",
       "    </tr>\n",
       "    <tr>\n",
       "      <th>497</th>\n",
       "      <td>20498</td>\n",
       "    </tr>\n",
       "    <tr>\n",
       "      <th>498</th>\n",
       "      <td>20499</td>\n",
       "    </tr>\n",
       "    <tr>\n",
       "      <th>499</th>\n",
       "      <td>20500</td>\n",
       "    </tr>\n",
       "  </tbody>\n",
       "</table>\n",
       "<p>500 rows × 1 columns</p>\n",
       "</div>"
      ],
      "text/plain": [
       "     Registration Number\n",
       "0                  20001\n",
       "1                  20002\n",
       "2                  20003\n",
       "3                  20004\n",
       "4                  20005\n",
       "..                   ...\n",
       "495                20496\n",
       "496                20497\n",
       "497                20498\n",
       "498                20499\n",
       "499                20500\n",
       "\n",
       "[500 rows x 1 columns]"
      ]
     },
     "execution_count": 166,
     "metadata": {},
     "output_type": "execute_result"
    }
   ],
   "source": [
    "solution_df = pd.DataFrame(test_df['Registration Number'])\n",
    "solution_df"
   ]
  },
  {
   "cell_type": "code",
   "execution_count": 167,
   "metadata": {},
   "outputs": [
    {
     "data": {
      "text/html": [
       "<div>\n",
       "<style scoped>\n",
       "    .dataframe tbody tr th:only-of-type {\n",
       "        vertical-align: middle;\n",
       "    }\n",
       "\n",
       "    .dataframe tbody tr th {\n",
       "        vertical-align: top;\n",
       "    }\n",
       "\n",
       "    .dataframe thead th {\n",
       "        text-align: right;\n",
       "    }\n",
       "</style>\n",
       "<table border=\"1\" class=\"dataframe\">\n",
       "  <thead>\n",
       "    <tr style=\"text-align: right;\">\n",
       "      <th></th>\n",
       "      <th>Registration Number</th>\n",
       "      <th>Annual Turnover</th>\n",
       "    </tr>\n",
       "  </thead>\n",
       "  <tbody>\n",
       "    <tr>\n",
       "      <th>0</th>\n",
       "      <td>20001</td>\n",
       "      <td>25083614.0</td>\n",
       "    </tr>\n",
       "    <tr>\n",
       "      <th>1</th>\n",
       "      <td>20002</td>\n",
       "      <td>37310128.0</td>\n",
       "    </tr>\n",
       "    <tr>\n",
       "      <th>2</th>\n",
       "      <td>20003</td>\n",
       "      <td>28281150.0</td>\n",
       "    </tr>\n",
       "    <tr>\n",
       "      <th>3</th>\n",
       "      <td>20004</td>\n",
       "      <td>44807256.0</td>\n",
       "    </tr>\n",
       "    <tr>\n",
       "      <th>4</th>\n",
       "      <td>20005</td>\n",
       "      <td>46825808.0</td>\n",
       "    </tr>\n",
       "    <tr>\n",
       "      <th>...</th>\n",
       "      <td>...</td>\n",
       "      <td>...</td>\n",
       "    </tr>\n",
       "    <tr>\n",
       "      <th>495</th>\n",
       "      <td>20496</td>\n",
       "      <td>30757350.0</td>\n",
       "    </tr>\n",
       "    <tr>\n",
       "      <th>496</th>\n",
       "      <td>20497</td>\n",
       "      <td>25741010.0</td>\n",
       "    </tr>\n",
       "    <tr>\n",
       "      <th>497</th>\n",
       "      <td>20498</td>\n",
       "      <td>33402996.0</td>\n",
       "    </tr>\n",
       "    <tr>\n",
       "      <th>498</th>\n",
       "      <td>20499</td>\n",
       "      <td>46127068.0</td>\n",
       "    </tr>\n",
       "    <tr>\n",
       "      <th>499</th>\n",
       "      <td>20500</td>\n",
       "      <td>25589988.0</td>\n",
       "    </tr>\n",
       "  </tbody>\n",
       "</table>\n",
       "<p>500 rows × 2 columns</p>\n",
       "</div>"
      ],
      "text/plain": [
       "     Registration Number  Annual Turnover\n",
       "0                  20001       25083614.0\n",
       "1                  20002       37310128.0\n",
       "2                  20003       28281150.0\n",
       "3                  20004       44807256.0\n",
       "4                  20005       46825808.0\n",
       "..                   ...              ...\n",
       "495                20496       30757350.0\n",
       "496                20497       25741010.0\n",
       "497                20498       33402996.0\n",
       "498                20499       46127068.0\n",
       "499                20500       25589988.0\n",
       "\n",
       "[500 rows x 2 columns]"
      ]
     },
     "execution_count": 167,
     "metadata": {},
     "output_type": "execute_result"
    }
   ],
   "source": [
    "solution_df['Annual Turnover'] = xgb_test_prediction\n",
    "solution_df"
   ]
  },
  {
   "cell_type": "code",
   "execution_count": 168,
   "metadata": {},
   "outputs": [],
   "source": [
    "solution_df.to_csv('Submission.csv',index=False)"
   ]
  },
  {
   "cell_type": "code",
   "execution_count": null,
   "metadata": {},
   "outputs": [],
   "source": []
  }
 ],
 "metadata": {
  "kernelspec": {
   "display_name": "Python 3",
   "language": "python",
   "name": "python3"
  },
  "language_info": {
   "codemirror_mode": {
    "name": "ipython",
    "version": 3
   },
   "file_extension": ".py",
   "mimetype": "text/x-python",
   "name": "python",
   "nbconvert_exporter": "python",
   "pygments_lexer": "ipython3",
   "version": "3.7.4"
  }
 },
 "nbformat": 4,
 "nbformat_minor": 2
}
